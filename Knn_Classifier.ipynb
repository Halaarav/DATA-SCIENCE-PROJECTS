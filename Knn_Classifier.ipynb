{
  "nbformat": 4,
  "nbformat_minor": 0,
  "metadata": {
    "colab": {
      "name": "Knn Classifier.ipynb",
      "provenance": [],
      "collapsed_sections": []
    },
    "kernelspec": {
      "name": "python3",
      "display_name": "Python 3"
    },
    "language_info": {
      "name": "python"
    }
  },
  "cells": [
    {
      "cell_type": "code",
      "source": [
        "import random\n",
        "import numpy as np\n",
        "import statistics"
      ],
      "metadata": {
        "id": "7z-OmrlLDTxj"
      },
      "execution_count": 30,
      "outputs": []
    },
    {
      "cell_type": "code",
      "source": [
        "#Creating a class(A class is a blueprint of whatever we have to dob)\n",
        "class KNN_Classifier():\n",
        "  #Initiating the parameters\n",
        "  def __init__(self,distance_metric):\n",
        "    self.distance_metric = distance_metric      #Self takes the value of the instance we will create to predict later\n",
        "\n",
        "\n",
        "\n",
        "  #Predicting the class of the test data\n",
        "  def predict(self,X_train,test_data,k):\n",
        "    neighbors=self.nearest_neighbors(X_train,test_data,k)\n",
        "\n",
        "    for data in neighbors:\n",
        "      label = []\n",
        "      label.append(data[-1])\n",
        "\n",
        "    predicted_class = statistics.mode(label)\n",
        "\n",
        "    return predicted_class\n",
        "\n",
        "\n",
        "  #Deciding the distance metric to be used and calculating distance based on this metric\n",
        "  def get_distance_metric(self,train_data,X_test):       #Finding the Euclidean Distance\n",
        "    if (self.distance_metric == 'euclidean'):\n",
        "      distance = 0\n",
        "      for i in range(len(train_data)-1):\n",
        "        distance = distance+(train_data[i]-X_test[i])**2\n",
        "      euc_distance=np.sqrt(distance)\n",
        "\n",
        "      return euc_distance\n",
        "\n",
        "    elif(self.distance_metric == 'manhattan'):                           #Finding the Manhattan Distance\n",
        "      distance = 0\n",
        "      for i in range(len(train_data)-1):\n",
        "        distance = distance+abs(train_data[i]-X_test[i])\n",
        "      man_distance=distance\n",
        "      \n",
        "      return man_distance \n",
        "\n",
        "\n",
        "  #Getting the nearest neighbors\n",
        "  def nearest_neighbors(self,train_data,X_test,k):\n",
        "    distance_list=[]\n",
        "\n",
        "    for training_data in train_data:\n",
        "      distance = self.get_distance_metric(training_data,X_test)\n",
        "      distance_list.append((training_data, distance))\n",
        "    \n",
        "    distance_list.sort(key=lambda x:x[1])\n",
        "\n",
        "    neighbors_list=[]\n",
        "\n",
        "    for j in range(k):\n",
        "      neighbors_list.append(distance_list[j][0])\n",
        "\n",
        "    return neighbors_list\n",
        "\n",
        "\n",
        "\n",
        "\n",
        "\n",
        "  "
      ],
      "metadata": {
        "id": "Xls1lRl5HEHz"
      },
      "execution_count": 62,
      "outputs": []
    },
    {
      "cell_type": "code",
      "source": [
        "#Loading the KNN_Classifier to an instance 'classifer' for which .self was used\n",
        "classifier = KNN_Classifier(distance_metric='euclidean')"
      ],
      "metadata": {
        "id": "9caqSiqeP51B"
      },
      "execution_count": 63,
      "outputs": []
    },
    {
      "cell_type": "code",
      "source": [
        "import pandas as pd\n",
        "\n",
        "churn = pd.read_csv('https://raw.githubusercontent.com/Halaarav/Some-Projects/main/churn.csv')"
      ],
      "metadata": {
        "id": "BRlimYrIQTbd"
      },
      "execution_count": 33,
      "outputs": []
    },
    {
      "cell_type": "code",
      "source": [
        "churn = churn.drop(columns=['RowNumber','CustomerId','Surname','Geography','Gender','Age'])"
      ],
      "metadata": {
        "id": "TgE-WYvaQTdu"
      },
      "execution_count": 34,
      "outputs": []
    },
    {
      "cell_type": "code",
      "source": [
        "from sklearn.model_selection import train_test_split"
      ],
      "metadata": {
        "id": "9vGTJrgaQ-vI"
      },
      "execution_count": 13,
      "outputs": []
    },
    {
      "cell_type": "code",
      "source": [
        "X = churn.drop('Exited',axis=1)\n",
        "y=churn.Exited\n",
        "#Converting the data to numpy array\n",
        "X = X.to_numpy()\n",
        "y = y.to_numpy()\n"
      ],
      "metadata": {
        "id": "ZDfcskL5R3jU"
      },
      "execution_count": 35,
      "outputs": []
    },
    {
      "cell_type": "code",
      "source": [
        "print(X),print(y)"
      ],
      "metadata": {
        "colab": {
          "base_uri": "https://localhost:8080/"
        },
        "id": "uIarpl8KU5m7",
        "outputId": "685f59f4-9e3e-41b5-8dce-f8e9514b2ac6"
      },
      "execution_count": 36,
      "outputs": [
        {
          "output_type": "stream",
          "name": "stdout",
          "text": [
            "[[6.1900000e+02 2.0000000e+00 0.0000000e+00 ... 1.0000000e+00\n",
            "  1.0000000e+00 1.0134888e+05]\n",
            " [6.0800000e+02 1.0000000e+00 8.3807860e+04 ... 0.0000000e+00\n",
            "  1.0000000e+00 1.1254258e+05]\n",
            " [5.0200000e+02 8.0000000e+00 1.5966080e+05 ... 1.0000000e+00\n",
            "  0.0000000e+00 1.1393157e+05]\n",
            " ...\n",
            " [7.0900000e+02 7.0000000e+00 0.0000000e+00 ... 0.0000000e+00\n",
            "  1.0000000e+00 4.2085580e+04]\n",
            " [7.7200000e+02 3.0000000e+00 7.5075310e+04 ... 1.0000000e+00\n",
            "  0.0000000e+00 9.2888520e+04]\n",
            " [7.9200000e+02 4.0000000e+00 1.3014279e+05 ... 1.0000000e+00\n",
            "  0.0000000e+00 3.8190780e+04]]\n",
            "[1 0 1 ... 1 1 0]\n"
          ]
        },
        {
          "output_type": "execute_result",
          "data": {
            "text/plain": [
              "(None, None)"
            ]
          },
          "metadata": {},
          "execution_count": 36
        }
      ]
    },
    {
      "cell_type": "code",
      "source": [
        "X_train,X_test,y_train,y_test = train_test_split(X,y,test_size=0.25)"
      ],
      "metadata": {
        "id": "kJdQlHS1RHMu"
      },
      "execution_count": 37,
      "outputs": []
    },
    {
      "cell_type": "code",
      "source": [
        "print(X_train.shape,X_test.shape,y_train.shape,y_test.shape)"
      ],
      "metadata": {
        "colab": {
          "base_uri": "https://localhost:8080/"
        },
        "id": "H3ugAf8dVBej",
        "outputId": "31cf82bb-fac8-4282-9dfe-b13b684e8b8e"
      },
      "execution_count": 38,
      "outputs": [
        {
          "output_type": "stream",
          "name": "stdout",
          "text": [
            "(7500, 7) (2500, 7) (7500,) (2500,)\n"
          ]
        }
      ]
    },
    {
      "cell_type": "code",
      "source": [
        "#Preparing the training data which will consist of all the features including the target variable whereas the test data will only contain the predictors\n",
        "train_data = np.insert(X_train,7,y_train,axis=1)"
      ],
      "metadata": {
        "id": "iFk-nBGRS8AG"
      },
      "execution_count": 49,
      "outputs": []
    },
    {
      "cell_type": "code",
      "source": [
        "X_test_size=X_test.shape[0]"
      ],
      "metadata": {
        "id": "85L2S1YIZQq6"
      },
      "execution_count": 74,
      "outputs": []
    },
    {
      "cell_type": "code",
      "source": [
        "prediction=[]\n",
        "for i in range(X_test_size):\n",
        "  prediction.append(classifier.predict(train_data,X_test[i],k=5))"
      ],
      "metadata": {
        "id": "AiQzSo6uP5_v"
      },
      "execution_count": 77,
      "outputs": []
    },
    {
      "cell_type": "code",
      "source": [
        "from sklearn.metrics import accuracy_score"
      ],
      "metadata": {
        "id": "2-qzzSdla2Kq"
      },
      "execution_count": 79,
      "outputs": []
    },
    {
      "cell_type": "code",
      "source": [
        "accuracy = accuracy_score(y_test,prediction)\n",
        "accuracy"
      ],
      "metadata": {
        "colab": {
          "base_uri": "https://localhost:8080/"
        },
        "id": "0g5oHV3cbRDo",
        "outputId": "23322271-3aee-486b-916b-d2f9f923f7e7"
      },
      "execution_count": 81,
      "outputs": [
        {
          "output_type": "execute_result",
          "data": {
            "text/plain": [
              "0.68"
            ]
          },
          "metadata": {},
          "execution_count": 81
        }
      ]
    },
    {
      "cell_type": "markdown",
      "source": [
        "> Et voila! We. got a 68% accuracy for our custom KNN Classifier.\\\n",
        "There is a need for improvement and we shall look forward to it soon."
      ],
      "metadata": {
        "id": "xwfRJSvafR_F"
      }
    }
  ]
}