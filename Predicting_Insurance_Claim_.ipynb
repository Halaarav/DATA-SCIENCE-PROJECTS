{
  "cells": [
    {
      "cell_type": "code",
      "execution_count": 2,
      "id": "4e522d76",
      "metadata": {
        "colab": {
          "base_uri": "https://localhost:8080/"
        },
        "id": "4e522d76",
        "outputId": "5cf9e300-4b1c-4987-9f68-fe864f41b653"
      },
      "outputs": [
        {
          "output_type": "stream",
          "name": "stderr",
          "text": [
            "/usr/local/lib/python3.7/dist-packages/statsmodels/tools/_testing.py:19: FutureWarning: pandas.util.testing is deprecated. Use the functions in the public API at pandas.testing instead.\n",
            "  import pandas.util.testing as tm\n"
          ]
        }
      ],
      "source": [
        "import os\n",
        "import pandas as pd\n",
        "import numpy as np\n",
        "import matplotlib.pyplot as plt\n",
        "import seaborn as sns\n",
        "import pylab as py\n",
        "from scipy import stats\n",
        "from statsmodels.stats.multicomp import pairwise_tukeyhsd\n",
        "from sklearn.model_selection import train_test_split\n",
        "from sklearn.linear_model import LinearRegression\n",
        "import warnings\n",
        "warnings.filterwarnings(\"ignore\")"
      ]
    },
    {
      "cell_type": "code",
      "execution_count": 4,
      "id": "ba9195a5",
      "metadata": {
        "id": "ba9195a5"
      },
      "outputs": [],
      "source": [
        "data = pd.read_csv('https://raw.githubusercontent.com/Halaarav/Some-Projects/main/insurance_data.csv')"
      ]
    },
    {
      "cell_type": "markdown",
      "id": "d62ac901",
      "metadata": {
        "id": "d62ac901"
      },
      "source": [
        "\n",
        "## __Need for this study__\n",
        "\n",
        "> We had been posed with an Insurance dataset consisting of Cross-Sectional Data.\n",
        " Intuitively, A proper (regression) analysis of the given problem would help the NBFC or bank by prediction of the insurance claim to cut it’s losses, manage current policies or introduce new policies concerning Insurance, \n",
        "But as we ruffled the feathers of the problem , we realized the data to have a variety of attributes of different types which may or may not have a role to play in our quest to predict the insurance claim. Their relation not only individually but also as groups of two or more with the ‘Insurance Claim Amount’ would have an impact on the final decisions to be made by the bank.\n",
        "\n",
        "### This problem posed an opportunity to first fix the flaws and then ultimately make this data ‘useful’.\n",
        "\n"
      ]
    },
    {
      "cell_type": "code",
      "execution_count": 5,
      "id": "b1bae6c0",
      "metadata": {
        "colab": {
          "base_uri": "https://localhost:8080/",
          "height": 300
        },
        "id": "b1bae6c0",
        "outputId": "eabd22d0-4548-47be-a25e-4c26d494c728"
      },
      "outputs": [
        {
          "output_type": "execute_result",
          "data": {
            "text/plain": [
              "         PatientID          age          bmi  bloodpressure     children  \\\n",
              "count  1340.000000  1335.000000  1340.000000    1340.000000  1340.000000   \n",
              "mean    670.500000    38.078652    30.668955      94.157463     1.093284   \n",
              "std     386.968991    11.102924     6.106735      11.434712     1.205334   \n",
              "min       1.000000    18.000000    16.000000      80.000000     0.000000   \n",
              "25%     335.750000    29.000000    26.275000      86.000000     0.000000   \n",
              "50%     670.500000    38.000000    30.400000      92.000000     1.000000   \n",
              "75%    1005.250000    47.000000    34.700000      99.000000     2.000000   \n",
              "max    1340.000000    60.000000    53.100000     140.000000     5.000000   \n",
              "\n",
              "              claim  \n",
              "count   1340.000000  \n",
              "mean   13252.745642  \n",
              "std    12109.609288  \n",
              "min     1121.870000  \n",
              "25%     4719.685000  \n",
              "50%     9369.615000  \n",
              "75%    16604.305000  \n",
              "max    63770.430000  "
            ],
            "text/html": [
              "\n",
              "  <div id=\"df-c71f49b3-e9ee-4086-a848-86973e8507b6\">\n",
              "    <div class=\"colab-df-container\">\n",
              "      <div>\n",
              "<style scoped>\n",
              "    .dataframe tbody tr th:only-of-type {\n",
              "        vertical-align: middle;\n",
              "    }\n",
              "\n",
              "    .dataframe tbody tr th {\n",
              "        vertical-align: top;\n",
              "    }\n",
              "\n",
              "    .dataframe thead th {\n",
              "        text-align: right;\n",
              "    }\n",
              "</style>\n",
              "<table border=\"1\" class=\"dataframe\">\n",
              "  <thead>\n",
              "    <tr style=\"text-align: right;\">\n",
              "      <th></th>\n",
              "      <th>PatientID</th>\n",
              "      <th>age</th>\n",
              "      <th>bmi</th>\n",
              "      <th>bloodpressure</th>\n",
              "      <th>children</th>\n",
              "      <th>claim</th>\n",
              "    </tr>\n",
              "  </thead>\n",
              "  <tbody>\n",
              "    <tr>\n",
              "      <th>count</th>\n",
              "      <td>1340.000000</td>\n",
              "      <td>1335.000000</td>\n",
              "      <td>1340.000000</td>\n",
              "      <td>1340.000000</td>\n",
              "      <td>1340.000000</td>\n",
              "      <td>1340.000000</td>\n",
              "    </tr>\n",
              "    <tr>\n",
              "      <th>mean</th>\n",
              "      <td>670.500000</td>\n",
              "      <td>38.078652</td>\n",
              "      <td>30.668955</td>\n",
              "      <td>94.157463</td>\n",
              "      <td>1.093284</td>\n",
              "      <td>13252.745642</td>\n",
              "    </tr>\n",
              "    <tr>\n",
              "      <th>std</th>\n",
              "      <td>386.968991</td>\n",
              "      <td>11.102924</td>\n",
              "      <td>6.106735</td>\n",
              "      <td>11.434712</td>\n",
              "      <td>1.205334</td>\n",
              "      <td>12109.609288</td>\n",
              "    </tr>\n",
              "    <tr>\n",
              "      <th>min</th>\n",
              "      <td>1.000000</td>\n",
              "      <td>18.000000</td>\n",
              "      <td>16.000000</td>\n",
              "      <td>80.000000</td>\n",
              "      <td>0.000000</td>\n",
              "      <td>1121.870000</td>\n",
              "    </tr>\n",
              "    <tr>\n",
              "      <th>25%</th>\n",
              "      <td>335.750000</td>\n",
              "      <td>29.000000</td>\n",
              "      <td>26.275000</td>\n",
              "      <td>86.000000</td>\n",
              "      <td>0.000000</td>\n",
              "      <td>4719.685000</td>\n",
              "    </tr>\n",
              "    <tr>\n",
              "      <th>50%</th>\n",
              "      <td>670.500000</td>\n",
              "      <td>38.000000</td>\n",
              "      <td>30.400000</td>\n",
              "      <td>92.000000</td>\n",
              "      <td>1.000000</td>\n",
              "      <td>9369.615000</td>\n",
              "    </tr>\n",
              "    <tr>\n",
              "      <th>75%</th>\n",
              "      <td>1005.250000</td>\n",
              "      <td>47.000000</td>\n",
              "      <td>34.700000</td>\n",
              "      <td>99.000000</td>\n",
              "      <td>2.000000</td>\n",
              "      <td>16604.305000</td>\n",
              "    </tr>\n",
              "    <tr>\n",
              "      <th>max</th>\n",
              "      <td>1340.000000</td>\n",
              "      <td>60.000000</td>\n",
              "      <td>53.100000</td>\n",
              "      <td>140.000000</td>\n",
              "      <td>5.000000</td>\n",
              "      <td>63770.430000</td>\n",
              "    </tr>\n",
              "  </tbody>\n",
              "</table>\n",
              "</div>\n",
              "      <button class=\"colab-df-convert\" onclick=\"convertToInteractive('df-c71f49b3-e9ee-4086-a848-86973e8507b6')\"\n",
              "              title=\"Convert this dataframe to an interactive table.\"\n",
              "              style=\"display:none;\">\n",
              "        \n",
              "  <svg xmlns=\"http://www.w3.org/2000/svg\" height=\"24px\"viewBox=\"0 0 24 24\"\n",
              "       width=\"24px\">\n",
              "    <path d=\"M0 0h24v24H0V0z\" fill=\"none\"/>\n",
              "    <path d=\"M18.56 5.44l.94 2.06.94-2.06 2.06-.94-2.06-.94-.94-2.06-.94 2.06-2.06.94zm-11 1L8.5 8.5l.94-2.06 2.06-.94-2.06-.94L8.5 2.5l-.94 2.06-2.06.94zm10 10l.94 2.06.94-2.06 2.06-.94-2.06-.94-.94-2.06-.94 2.06-2.06.94z\"/><path d=\"M17.41 7.96l-1.37-1.37c-.4-.4-.92-.59-1.43-.59-.52 0-1.04.2-1.43.59L10.3 9.45l-7.72 7.72c-.78.78-.78 2.05 0 2.83L4 21.41c.39.39.9.59 1.41.59.51 0 1.02-.2 1.41-.59l7.78-7.78 2.81-2.81c.8-.78.8-2.07 0-2.86zM5.41 20L4 18.59l7.72-7.72 1.47 1.35L5.41 20z\"/>\n",
              "  </svg>\n",
              "      </button>\n",
              "      \n",
              "  <style>\n",
              "    .colab-df-container {\n",
              "      display:flex;\n",
              "      flex-wrap:wrap;\n",
              "      gap: 12px;\n",
              "    }\n",
              "\n",
              "    .colab-df-convert {\n",
              "      background-color: #E8F0FE;\n",
              "      border: none;\n",
              "      border-radius: 50%;\n",
              "      cursor: pointer;\n",
              "      display: none;\n",
              "      fill: #1967D2;\n",
              "      height: 32px;\n",
              "      padding: 0 0 0 0;\n",
              "      width: 32px;\n",
              "    }\n",
              "\n",
              "    .colab-df-convert:hover {\n",
              "      background-color: #E2EBFA;\n",
              "      box-shadow: 0px 1px 2px rgba(60, 64, 67, 0.3), 0px 1px 3px 1px rgba(60, 64, 67, 0.15);\n",
              "      fill: #174EA6;\n",
              "    }\n",
              "\n",
              "    [theme=dark] .colab-df-convert {\n",
              "      background-color: #3B4455;\n",
              "      fill: #D2E3FC;\n",
              "    }\n",
              "\n",
              "    [theme=dark] .colab-df-convert:hover {\n",
              "      background-color: #434B5C;\n",
              "      box-shadow: 0px 1px 3px 1px rgba(0, 0, 0, 0.15);\n",
              "      filter: drop-shadow(0px 1px 2px rgba(0, 0, 0, 0.3));\n",
              "      fill: #FFFFFF;\n",
              "    }\n",
              "  </style>\n",
              "\n",
              "      <script>\n",
              "        const buttonEl =\n",
              "          document.querySelector('#df-c71f49b3-e9ee-4086-a848-86973e8507b6 button.colab-df-convert');\n",
              "        buttonEl.style.display =\n",
              "          google.colab.kernel.accessAllowed ? 'block' : 'none';\n",
              "\n",
              "        async function convertToInteractive(key) {\n",
              "          const element = document.querySelector('#df-c71f49b3-e9ee-4086-a848-86973e8507b6');\n",
              "          const dataTable =\n",
              "            await google.colab.kernel.invokeFunction('convertToInteractive',\n",
              "                                                     [key], {});\n",
              "          if (!dataTable) return;\n",
              "\n",
              "          const docLinkHtml = 'Like what you see? Visit the ' +\n",
              "            '<a target=\"_blank\" href=https://colab.research.google.com/notebooks/data_table.ipynb>data table notebook</a>'\n",
              "            + ' to learn more about interactive tables.';\n",
              "          element.innerHTML = '';\n",
              "          dataTable['output_type'] = 'display_data';\n",
              "          await google.colab.output.renderOutput(dataTable, element);\n",
              "          const docLink = document.createElement('div');\n",
              "          docLink.innerHTML = docLinkHtml;\n",
              "          element.appendChild(docLink);\n",
              "        }\n",
              "      </script>\n",
              "    </div>\n",
              "  </div>\n",
              "  "
            ]
          },
          "metadata": {},
          "execution_count": 5
        }
      ],
      "source": [
        "data.describe()"
      ]
    },
    {
      "cell_type": "code",
      "execution_count": 6,
      "id": "8f7adad6",
      "metadata": {
        "colab": {
          "base_uri": "https://localhost:8080/",
          "height": 424
        },
        "id": "8f7adad6",
        "outputId": "98513902-08ac-45fc-f399-f033722058af"
      },
      "outputs": [
        {
          "output_type": "execute_result",
          "data": {
            "text/plain": [
              "      PatientID   age  gender   bmi  bloodpressure diabetic  children smoker  \\\n",
              "0             1  39.0    male  23.2             91      Yes         0     No   \n",
              "1             2  24.0    male  30.1             87       No         0     No   \n",
              "2             3   NaN    male  33.3             82      Yes         0     No   \n",
              "3             4   NaN    male  33.7             80       No         0     No   \n",
              "4             5   NaN    male  34.1            100       No         0     No   \n",
              "...         ...   ...     ...   ...            ...      ...       ...    ...   \n",
              "1335       1336  44.0  female  35.5             88      Yes         0    Yes   \n",
              "1336       1337  59.0  female  38.1            120       No         1    Yes   \n",
              "1337       1338  30.0    male  34.5             91      Yes         3    Yes   \n",
              "1338       1339  37.0    male  30.4            106       No         0    Yes   \n",
              "1339       1340  30.0  female  47.4            101       No         0    Yes   \n",
              "\n",
              "         region     claim  \n",
              "0     southeast   1121.87  \n",
              "1     southeast   1131.51  \n",
              "2     southeast   1135.94  \n",
              "3     northwest   1136.40  \n",
              "4     northwest   1137.01  \n",
              "...         ...       ...  \n",
              "1335  northwest  55135.40  \n",
              "1336  northeast  58571.07  \n",
              "1337  northwest  60021.40  \n",
              "1338  southeast  62592.87  \n",
              "1339  southeast  63770.43  \n",
              "\n",
              "[1340 rows x 10 columns]"
            ],
            "text/html": [
              "\n",
              "  <div id=\"df-ba4d4575-de09-493b-85f7-19702d7d6191\">\n",
              "    <div class=\"colab-df-container\">\n",
              "      <div>\n",
              "<style scoped>\n",
              "    .dataframe tbody tr th:only-of-type {\n",
              "        vertical-align: middle;\n",
              "    }\n",
              "\n",
              "    .dataframe tbody tr th {\n",
              "        vertical-align: top;\n",
              "    }\n",
              "\n",
              "    .dataframe thead th {\n",
              "        text-align: right;\n",
              "    }\n",
              "</style>\n",
              "<table border=\"1\" class=\"dataframe\">\n",
              "  <thead>\n",
              "    <tr style=\"text-align: right;\">\n",
              "      <th></th>\n",
              "      <th>PatientID</th>\n",
              "      <th>age</th>\n",
              "      <th>gender</th>\n",
              "      <th>bmi</th>\n",
              "      <th>bloodpressure</th>\n",
              "      <th>diabetic</th>\n",
              "      <th>children</th>\n",
              "      <th>smoker</th>\n",
              "      <th>region</th>\n",
              "      <th>claim</th>\n",
              "    </tr>\n",
              "  </thead>\n",
              "  <tbody>\n",
              "    <tr>\n",
              "      <th>0</th>\n",
              "      <td>1</td>\n",
              "      <td>39.0</td>\n",
              "      <td>male</td>\n",
              "      <td>23.2</td>\n",
              "      <td>91</td>\n",
              "      <td>Yes</td>\n",
              "      <td>0</td>\n",
              "      <td>No</td>\n",
              "      <td>southeast</td>\n",
              "      <td>1121.87</td>\n",
              "    </tr>\n",
              "    <tr>\n",
              "      <th>1</th>\n",
              "      <td>2</td>\n",
              "      <td>24.0</td>\n",
              "      <td>male</td>\n",
              "      <td>30.1</td>\n",
              "      <td>87</td>\n",
              "      <td>No</td>\n",
              "      <td>0</td>\n",
              "      <td>No</td>\n",
              "      <td>southeast</td>\n",
              "      <td>1131.51</td>\n",
              "    </tr>\n",
              "    <tr>\n",
              "      <th>2</th>\n",
              "      <td>3</td>\n",
              "      <td>NaN</td>\n",
              "      <td>male</td>\n",
              "      <td>33.3</td>\n",
              "      <td>82</td>\n",
              "      <td>Yes</td>\n",
              "      <td>0</td>\n",
              "      <td>No</td>\n",
              "      <td>southeast</td>\n",
              "      <td>1135.94</td>\n",
              "    </tr>\n",
              "    <tr>\n",
              "      <th>3</th>\n",
              "      <td>4</td>\n",
              "      <td>NaN</td>\n",
              "      <td>male</td>\n",
              "      <td>33.7</td>\n",
              "      <td>80</td>\n",
              "      <td>No</td>\n",
              "      <td>0</td>\n",
              "      <td>No</td>\n",
              "      <td>northwest</td>\n",
              "      <td>1136.40</td>\n",
              "    </tr>\n",
              "    <tr>\n",
              "      <th>4</th>\n",
              "      <td>5</td>\n",
              "      <td>NaN</td>\n",
              "      <td>male</td>\n",
              "      <td>34.1</td>\n",
              "      <td>100</td>\n",
              "      <td>No</td>\n",
              "      <td>0</td>\n",
              "      <td>No</td>\n",
              "      <td>northwest</td>\n",
              "      <td>1137.01</td>\n",
              "    </tr>\n",
              "    <tr>\n",
              "      <th>...</th>\n",
              "      <td>...</td>\n",
              "      <td>...</td>\n",
              "      <td>...</td>\n",
              "      <td>...</td>\n",
              "      <td>...</td>\n",
              "      <td>...</td>\n",
              "      <td>...</td>\n",
              "      <td>...</td>\n",
              "      <td>...</td>\n",
              "      <td>...</td>\n",
              "    </tr>\n",
              "    <tr>\n",
              "      <th>1335</th>\n",
              "      <td>1336</td>\n",
              "      <td>44.0</td>\n",
              "      <td>female</td>\n",
              "      <td>35.5</td>\n",
              "      <td>88</td>\n",
              "      <td>Yes</td>\n",
              "      <td>0</td>\n",
              "      <td>Yes</td>\n",
              "      <td>northwest</td>\n",
              "      <td>55135.40</td>\n",
              "    </tr>\n",
              "    <tr>\n",
              "      <th>1336</th>\n",
              "      <td>1337</td>\n",
              "      <td>59.0</td>\n",
              "      <td>female</td>\n",
              "      <td>38.1</td>\n",
              "      <td>120</td>\n",
              "      <td>No</td>\n",
              "      <td>1</td>\n",
              "      <td>Yes</td>\n",
              "      <td>northeast</td>\n",
              "      <td>58571.07</td>\n",
              "    </tr>\n",
              "    <tr>\n",
              "      <th>1337</th>\n",
              "      <td>1338</td>\n",
              "      <td>30.0</td>\n",
              "      <td>male</td>\n",
              "      <td>34.5</td>\n",
              "      <td>91</td>\n",
              "      <td>Yes</td>\n",
              "      <td>3</td>\n",
              "      <td>Yes</td>\n",
              "      <td>northwest</td>\n",
              "      <td>60021.40</td>\n",
              "    </tr>\n",
              "    <tr>\n",
              "      <th>1338</th>\n",
              "      <td>1339</td>\n",
              "      <td>37.0</td>\n",
              "      <td>male</td>\n",
              "      <td>30.4</td>\n",
              "      <td>106</td>\n",
              "      <td>No</td>\n",
              "      <td>0</td>\n",
              "      <td>Yes</td>\n",
              "      <td>southeast</td>\n",
              "      <td>62592.87</td>\n",
              "    </tr>\n",
              "    <tr>\n",
              "      <th>1339</th>\n",
              "      <td>1340</td>\n",
              "      <td>30.0</td>\n",
              "      <td>female</td>\n",
              "      <td>47.4</td>\n",
              "      <td>101</td>\n",
              "      <td>No</td>\n",
              "      <td>0</td>\n",
              "      <td>Yes</td>\n",
              "      <td>southeast</td>\n",
              "      <td>63770.43</td>\n",
              "    </tr>\n",
              "  </tbody>\n",
              "</table>\n",
              "<p>1340 rows × 10 columns</p>\n",
              "</div>\n",
              "      <button class=\"colab-df-convert\" onclick=\"convertToInteractive('df-ba4d4575-de09-493b-85f7-19702d7d6191')\"\n",
              "              title=\"Convert this dataframe to an interactive table.\"\n",
              "              style=\"display:none;\">\n",
              "        \n",
              "  <svg xmlns=\"http://www.w3.org/2000/svg\" height=\"24px\"viewBox=\"0 0 24 24\"\n",
              "       width=\"24px\">\n",
              "    <path d=\"M0 0h24v24H0V0z\" fill=\"none\"/>\n",
              "    <path d=\"M18.56 5.44l.94 2.06.94-2.06 2.06-.94-2.06-.94-.94-2.06-.94 2.06-2.06.94zm-11 1L8.5 8.5l.94-2.06 2.06-.94-2.06-.94L8.5 2.5l-.94 2.06-2.06.94zm10 10l.94 2.06.94-2.06 2.06-.94-2.06-.94-.94-2.06-.94 2.06-2.06.94z\"/><path d=\"M17.41 7.96l-1.37-1.37c-.4-.4-.92-.59-1.43-.59-.52 0-1.04.2-1.43.59L10.3 9.45l-7.72 7.72c-.78.78-.78 2.05 0 2.83L4 21.41c.39.39.9.59 1.41.59.51 0 1.02-.2 1.41-.59l7.78-7.78 2.81-2.81c.8-.78.8-2.07 0-2.86zM5.41 20L4 18.59l7.72-7.72 1.47 1.35L5.41 20z\"/>\n",
              "  </svg>\n",
              "      </button>\n",
              "      \n",
              "  <style>\n",
              "    .colab-df-container {\n",
              "      display:flex;\n",
              "      flex-wrap:wrap;\n",
              "      gap: 12px;\n",
              "    }\n",
              "\n",
              "    .colab-df-convert {\n",
              "      background-color: #E8F0FE;\n",
              "      border: none;\n",
              "      border-radius: 50%;\n",
              "      cursor: pointer;\n",
              "      display: none;\n",
              "      fill: #1967D2;\n",
              "      height: 32px;\n",
              "      padding: 0 0 0 0;\n",
              "      width: 32px;\n",
              "    }\n",
              "\n",
              "    .colab-df-convert:hover {\n",
              "      background-color: #E2EBFA;\n",
              "      box-shadow: 0px 1px 2px rgba(60, 64, 67, 0.3), 0px 1px 3px 1px rgba(60, 64, 67, 0.15);\n",
              "      fill: #174EA6;\n",
              "    }\n",
              "\n",
              "    [theme=dark] .colab-df-convert {\n",
              "      background-color: #3B4455;\n",
              "      fill: #D2E3FC;\n",
              "    }\n",
              "\n",
              "    [theme=dark] .colab-df-convert:hover {\n",
              "      background-color: #434B5C;\n",
              "      box-shadow: 0px 1px 3px 1px rgba(0, 0, 0, 0.15);\n",
              "      filter: drop-shadow(0px 1px 2px rgba(0, 0, 0, 0.3));\n",
              "      fill: #FFFFFF;\n",
              "    }\n",
              "  </style>\n",
              "\n",
              "      <script>\n",
              "        const buttonEl =\n",
              "          document.querySelector('#df-ba4d4575-de09-493b-85f7-19702d7d6191 button.colab-df-convert');\n",
              "        buttonEl.style.display =\n",
              "          google.colab.kernel.accessAllowed ? 'block' : 'none';\n",
              "\n",
              "        async function convertToInteractive(key) {\n",
              "          const element = document.querySelector('#df-ba4d4575-de09-493b-85f7-19702d7d6191');\n",
              "          const dataTable =\n",
              "            await google.colab.kernel.invokeFunction('convertToInteractive',\n",
              "                                                     [key], {});\n",
              "          if (!dataTable) return;\n",
              "\n",
              "          const docLinkHtml = 'Like what you see? Visit the ' +\n",
              "            '<a target=\"_blank\" href=https://colab.research.google.com/notebooks/data_table.ipynb>data table notebook</a>'\n",
              "            + ' to learn more about interactive tables.';\n",
              "          element.innerHTML = '';\n",
              "          dataTable['output_type'] = 'display_data';\n",
              "          await google.colab.output.renderOutput(dataTable, element);\n",
              "          const docLink = document.createElement('div');\n",
              "          docLink.innerHTML = docLinkHtml;\n",
              "          element.appendChild(docLink);\n",
              "        }\n",
              "      </script>\n",
              "    </div>\n",
              "  </div>\n",
              "  "
            ]
          },
          "metadata": {},
          "execution_count": 6
        }
      ],
      "source": [
        "data_ins = data.copy()\n",
        "data_ins"
      ]
    },
    {
      "cell_type": "code",
      "execution_count": 7,
      "id": "fbeaa7e4",
      "metadata": {
        "id": "fbeaa7e4"
      },
      "outputs": [],
      "source": [
        "data1 = data.copy()"
      ]
    },
    {
      "cell_type": "markdown",
      "id": "5c6073d3",
      "metadata": {
        "id": "5c6073d3"
      },
      "source": [
        "## Taking suitable measures to treat the  missing values:"
      ]
    },
    {
      "cell_type": "markdown",
      "id": "21e98ff2",
      "metadata": {
        "id": "21e98ff2"
      },
      "source": [
        "There were a total of 5 missing numerical values under attribute __'age'__ ,\n",
        "\n",
        "and 3 missing categorical values under attribute __'region'__."
      ]
    },
    {
      "cell_type": "code",
      "execution_count": 8,
      "id": "7691fb2e",
      "metadata": {
        "colab": {
          "base_uri": "https://localhost:8080/"
        },
        "id": "7691fb2e",
        "outputId": "90efd9c4-ba5d-478a-f3f0-38fdb962426b"
      },
      "outputs": [
        {
          "output_type": "execute_result",
          "data": {
            "text/plain": [
              "PatientID        0\n",
              "age              5\n",
              "gender           0\n",
              "bmi              0\n",
              "bloodpressure    0\n",
              "diabetic         0\n",
              "children         0\n",
              "smoker           0\n",
              "region           3\n",
              "claim            0\n",
              "dtype: int64"
            ]
          },
          "metadata": {},
          "execution_count": 8
        }
      ],
      "source": [
        "data_ins.isnull().sum()"
      ]
    },
    {
      "cell_type": "markdown",
      "id": "d42836ed",
      "metadata": {
        "id": "d42836ed"
      },
      "source": [
        "> Replacing the missing values under 'age' with the __mean__ of all the cases under 'Age'"
      ]
    },
    {
      "cell_type": "code",
      "execution_count": 9,
      "id": "fe3c4eba",
      "metadata": {
        "id": "fe3c4eba"
      },
      "outputs": [],
      "source": [
        "data_ins[\"age\"].fillna(data_ins.age.mean(), inplace = True) "
      ]
    },
    {
      "cell_type": "markdown",
      "id": "54388b06",
      "metadata": {
        "id": "54388b06"
      },
      "source": [
        "> Replacing null values of 'region' with the __mode__ of the all the cases under 'region'.\n",
        "i.e. region = southeast"
      ]
    },
    {
      "cell_type": "code",
      "execution_count": 10,
      "id": "10198513",
      "metadata": {
        "scrolled": true,
        "colab": {
          "base_uri": "https://localhost:8080/"
        },
        "id": "10198513",
        "outputId": "ba311623-2151-4586-cd1c-d023d51cc3a7"
      },
      "outputs": [
        {
          "output_type": "execute_result",
          "data": {
            "text/plain": [
              "0    southeast\n",
              "dtype: object"
            ]
          },
          "metadata": {},
          "execution_count": 10
        }
      ],
      "source": [
        "data_ins.region.mode()"
      ]
    },
    {
      "cell_type": "code",
      "execution_count": 11,
      "id": "333be5fd",
      "metadata": {
        "id": "333be5fd"
      },
      "outputs": [],
      "source": [
        "data_ins = data_ins.fillna(data_ins.region.mode()[0])"
      ]
    },
    {
      "cell_type": "code",
      "execution_count": 12,
      "id": "0f06b640",
      "metadata": {
        "colab": {
          "base_uri": "https://localhost:8080/"
        },
        "id": "0f06b640",
        "outputId": "9c760785-156f-41df-e030-327f17a2c38c"
      },
      "outputs": [
        {
          "output_type": "execute_result",
          "data": {
            "text/plain": [
              "PatientID        0\n",
              "age              0\n",
              "gender           0\n",
              "bmi              0\n",
              "bloodpressure    0\n",
              "diabetic         0\n",
              "children         0\n",
              "smoker           0\n",
              "region           0\n",
              "claim            0\n",
              "dtype: int64"
            ]
          },
          "metadata": {},
          "execution_count": 12
        }
      ],
      "source": [
        "data_ins.isnull().sum() # All the null values are now removed and the data is cleaned. "
      ]
    },
    {
      "cell_type": "markdown",
      "id": "2506d38f",
      "metadata": {
        "id": "2506d38f"
      },
      "source": [
        "## Dividing the variables of the given dataset broadly as Categorical and Numerical."
      ]
    },
    {
      "cell_type": "markdown",
      "id": "fec6cf47",
      "metadata": {
        "id": "fec6cf47"
      },
      "source": [
        "> Categorical Variables"
      ]
    },
    {
      "cell_type": "code",
      "execution_count": 13,
      "id": "652e2544",
      "metadata": {
        "colab": {
          "base_uri": "https://localhost:8080/"
        },
        "id": "652e2544",
        "outputId": "6101c5ff-1938-4260-c754-b4c70246d8cb"
      },
      "outputs": [
        {
          "output_type": "execute_result",
          "data": {
            "text/plain": [
              "['gender', 'diabetic', 'smoker', 'region']"
            ]
          },
          "metadata": {},
          "execution_count": 13
        }
      ],
      "source": [
        "Categorical = []\n",
        "for columns in data:\n",
        "        if (data.dtypes[columns] == 'object'):\n",
        "            Categorical.append(columns)\n",
        "Categorical"
      ]
    },
    {
      "cell_type": "markdown",
      "id": "65415e90",
      "metadata": {
        "id": "65415e90"
      },
      "source": [
        "> Numerical Variables"
      ]
    },
    {
      "cell_type": "code",
      "execution_count": 14,
      "id": "779f6c59",
      "metadata": {
        "colab": {
          "base_uri": "https://localhost:8080/"
        },
        "id": "779f6c59",
        "outputId": "9726171c-aa97-4d4b-f65e-f732f4b0e256"
      },
      "outputs": [
        {
          "output_type": "execute_result",
          "data": {
            "text/plain": [
              "['PatientID', 'age', 'bmi', 'bloodpressure', 'children', 'claim']"
            ]
          },
          "metadata": {},
          "execution_count": 14
        }
      ],
      "source": [
        "Numerical = []\n",
        "for columns in data:\n",
        "    if (data.dtypes[columns] == 'float64') or (data.dtypes[columns] == 'int64'):\n",
        "         Numerical.append(columns)\n",
        "Numerical"
      ]
    },
    {
      "cell_type": "code",
      "execution_count": 15,
      "id": "003af0bb",
      "metadata": {
        "scrolled": false,
        "colab": {
          "base_uri": "https://localhost:8080/",
          "height": 1000
        },
        "id": "003af0bb",
        "outputId": "bbcaceaa-57a1-4a3a-ec8b-2e1d31183979"
      },
      "outputs": [
        {
          "output_type": "stream",
          "name": "stdout",
          "text": [
            "***Graphs for Numerical data***\n",
            "\n",
            "***Graph for Continuous data***\n",
            "\n"
          ]
        },
        {
          "output_type": "display_data",
          "data": {
            "text/plain": [
              "<Figure size 432x288 with 1 Axes>"
            ],
            "image/png": "[encoded data removed]"
          },
          "metadata": {
            "needs_background": "light"
          }
        },
        {
          "output_type": "display_data",
          "data": {
            "text/plain": [
              "<Figure size 432x288 with 1 Axes>"
            ],
            "image/png": "[encoded data removed]"
          },
          "metadata": {
            "needs_background": "light"
          }
        },
        {
          "output_type": "stream",
          "name": "stdout",
          "text": [
            "***Graph for Continuous data***\n",
            "\n"
          ]
        },
        {
          "output_type": "display_data",
          "data": {
            "text/plain": [
              "<Figure size 432x288 with 1 Axes>"
            ],
            "image/png": "[encoded data removed]"
          },
          "metadata": {
            "needs_background": "light"
          }
        },
        {
          "output_type": "display_data",
          "data": {
            "text/plain": [
              "<Figure size 432x288 with 1 Axes>"
            ],
            "image/png": "[encoded data removed]"
          },
          "metadata": {
            "needs_background": "light"
          }
        },
        {
          "output_type": "stream",
          "name": "stdout",
          "text": [
            "***Graph for Continuous data***\n",
            "\n"
          ]
        },
        {
          "output_type": "display_data",
          "data": {
            "text/plain": [
              "<Figure size 432x288 with 1 Axes>"
            ],
            "image/png": "[encoded data removed]"
          },
          "metadata": {
            "needs_background": "light"
          }
        },
        {
          "output_type": "display_data",
          "data": {
            "text/plain": [
              "<Figure size 432x288 with 1 Axes>"
            ],
            "image/png": "[encoded data removed]"
          },
          "metadata": {
            "needs_background": "light"
          }
        },
        {
          "output_type": "stream",
          "name": "stdout",
          "text": [
            "***Graph for Discrete data***\n",
            "\n"
          ]
        },
        {
          "output_type": "display_data",
          "data": {
            "text/plain": [
              "<Figure size 720x720 with 1 Axes>"
            ],
            "image/png": "[encoded data removed]"
          },
          "metadata": {
            "needs_background": "light"
          }
        },
        {
          "output_type": "stream",
          "name": "stdout",
          "text": [
            "***Graph for Continuous data***\n",
            "\n"
          ]
        },
        {
          "output_type": "display_data",
          "data": {
            "text/plain": [
              "<Figure size 432x288 with 1 Axes>"
            ],
            "image/png": "[encoded data removed]"
          },
          "metadata": {
            "needs_background": "light"
          }
        },
        {
          "output_type": "display_data",
          "data": {
            "text/plain": [
              "<Figure size 432x288 with 1 Axes>"
            ],
            "image/png": "[encoded data removed]"
          },
          "metadata": {
            "needs_background": "light"
          }
        }
      ],
      "source": [
        "def Graph_v2_numerical(file_name):\n",
        "    print (\"***Graphs for Numerical data***\\n\")\n",
        "    Numerical.remove('PatientID')\n",
        "    for i in Numerical:\n",
        "            if len(data[i].value_counts())>10:\n",
        "                print (\"***Graph for Continuous data***\\n\")\n",
        "                data.boxplot(column = i,grid = True,figsize = (6,4),vert = False)  \n",
        "                data.hist(column = i,grid = False,figsize = (6,4),color = \"turquoise\",edgecolor = \"green\")\n",
        "                plt.title(i, fontsize = 14),\n",
        "                plt.show()\n",
        "            else:\n",
        "                print (\"***Graph for Discrete data***\\n\")\n",
        "                data[i].value_counts().plot(kind = 'bar',rot=0, figsize = (10,10),color = \"red\",fontsize = 13)\n",
        "                plt.title(i, fontsize = 14),\n",
        "                plt.show()        \n",
        "Graph_v2_numerical(\"insurance_data.csv\")"
      ]
    },
    {
      "cell_type": "markdown",
      "id": "de74422c",
      "metadata": {
        "id": "de74422c"
      },
      "source": [
        "> Age"
      ]
    },
    {
      "cell_type": "code",
      "execution_count": 16,
      "id": "dc2c157f",
      "metadata": {
        "scrolled": true,
        "colab": {
          "base_uri": "https://localhost:8080/"
        },
        "id": "dc2c157f",
        "outputId": "08baf54f-597e-419d-dd3e-89f931862a8d"
      },
      "outputs": [
        {
          "output_type": "execute_result",
          "data": {
            "text/plain": [
              "count    1340.000000\n",
              "mean       38.078652\n",
              "std        11.082175\n",
              "min        18.000000\n",
              "25%        29.000000\n",
              "50%        38.000000\n",
              "75%        47.000000\n",
              "max        60.000000\n",
              "Name: age, dtype: float64"
            ]
          },
          "metadata": {},
          "execution_count": 16
        }
      ],
      "source": [
        "data_ins.age.describe()"
      ]
    },
    {
      "cell_type": "code",
      "execution_count": 17,
      "id": "572d672d",
      "metadata": {
        "colab": {
          "base_uri": "https://localhost:8080/"
        },
        "id": "572d672d",
        "outputId": "b8271962-c7cf-42b7-89a6-8b3ea9a38233"
      },
      "outputs": [
        {
          "output_type": "execute_result",
          "data": {
            "text/plain": [
              "57.0"
            ]
          },
          "metadata": {},
          "execution_count": 17
        }
      ],
      "source": [
        "data_ins.age.quantile(0.95)"
      ]
    },
    {
      "cell_type": "markdown",
      "id": "437fb423",
      "metadata": {
        "id": "437fb423"
      },
      "source": [
        "Clearly we can see that there are age groups ranging from 18 years to 60 years.\n",
        "Also, 95% of the people have an age less than or equal to 57."
      ]
    },
    {
      "cell_type": "markdown",
      "id": "54e799e1",
      "metadata": {
        "id": "54e799e1"
      },
      "source": [
        "> BMI"
      ]
    },
    {
      "cell_type": "code",
      "execution_count": 18,
      "id": "1c06732b",
      "metadata": {
        "scrolled": true,
        "colab": {
          "base_uri": "https://localhost:8080/"
        },
        "id": "1c06732b",
        "outputId": "cbb55edb-071b-40d2-8389-c90f3969dc82"
      },
      "outputs": [
        {
          "output_type": "execute_result",
          "data": {
            "text/plain": [
              "count    1340.000000\n",
              "mean       30.668955\n",
              "std         6.106735\n",
              "min        16.000000\n",
              "25%        26.275000\n",
              "50%        30.400000\n",
              "75%        34.700000\n",
              "max        53.100000\n",
              "Name: bmi, dtype: float64"
            ]
          },
          "metadata": {},
          "execution_count": 18
        }
      ],
      "source": [
        "data_ins.bmi.describe()"
      ]
    },
    {
      "cell_type": "markdown",
      "id": "e4391ea1",
      "metadata": {
        "id": "e4391ea1"
      },
      "source": [
        "According to the National Heart, Lung and Blood Institute, USA\n",
        "(https://www.nhlbi.nih.gov/health/educational/lose_wt/BMI/bmicalc.htm)\n",
        "\n",
        "Less than 18.5 is termed underweight.\n",
        "\n",
        "In a range of 18.5–24.9 is termed as Normal.\n",
        "\n",
        "Over 24.9 to 30 considered overweight.\n",
        "\n",
        "Anything above 30 is categorised as obese."
      ]
    },
    {
      "cell_type": "markdown",
      "id": "cfd9602d",
      "metadata": {
        "id": "cfd9602d"
      },
      "source": [
        "Intuitively, we will be categorising bmi as 'Normal'(i.e. in range 18.5 - 24.9) \n",
        "and all others as 'Not Normal'."
      ]
    },
    {
      "cell_type": "markdown",
      "id": "fd01bef7",
      "metadata": {
        "id": "fd01bef7"
      },
      "source": [
        "This may be used during the bivariate analysis of 'BMI' with the 'Claim'. "
      ]
    },
    {
      "cell_type": "code",
      "execution_count": 19,
      "id": "4e8fe513",
      "metadata": {
        "colab": {
          "base_uri": "https://localhost:8080/",
          "height": 1000
        },
        "id": "4e8fe513",
        "outputId": "6d6256f1-20ad-4278-e850-3b767f37ee21"
      },
      "outputs": [
        {
          "output_type": "stream",
          "name": "stdout",
          "text": [
            "\n",
            "***Graphs for Categorical data***\n",
            "\n"
          ]
        },
        {
          "output_type": "display_data",
          "data": {
            "text/plain": [
              "<Figure size 720x720 with 1 Axes>"
            ],
            "image/png": "[encoded data removed]"
          },
          "metadata": {
            "needs_background": "light"
          }
        },
        {
          "output_type": "display_data",
          "data": {
            "text/plain": [
              "<Figure size 720x720 with 1 Axes>"
            ],
            "image/png": "[encoded data removed]"
          },
          "metadata": {
            "needs_background": "light"
          }
        },
        {
          "output_type": "display_data",
          "data": {
            "text/plain": [
              "<Figure size 720x720 with 1 Axes>"
            ],
            "image/png": "[encoded data removed]"
          },
          "metadata": {
            "needs_background": "light"
          }
        },
        {
          "output_type": "display_data",
          "data": {
            "text/plain": [
              "<Figure size 720x720 with 1 Axes>"
            ],
            "image/png": "[encoded data removed]"
          },
          "metadata": {
            "needs_background": "light"
          }
        }
      ],
      "source": [
        "def Graph_v2_Categorical(filename):\n",
        "    \n",
        "    print (\"\\n***Graphs for Categorical data***\\n\")\n",
        "    for i in Categorical or len(data[i].value_counts())<10:\n",
        "        data[i].value_counts().plot(kind = 'bar',rot=0, figsize = (10,10),color = \"red\",fontsize = 13)\n",
        "        plt.title(i, fontsize = 14),\n",
        "        plt.show()\n",
        "Graph_v2_Categorical(\"insurance_data.csv\")"
      ]
    },
    {
      "cell_type": "code",
      "execution_count": 20,
      "id": "3c538687",
      "metadata": {
        "colab": {
          "base_uri": "https://localhost:8080/",
          "height": 143
        },
        "id": "3c538687",
        "outputId": "822de7ce-729b-4bc4-d655-2933ba314646"
      },
      "outputs": [
        {
          "output_type": "execute_result",
          "data": {
            "text/plain": [
              "col_0   Count\n",
              "gender       \n",
              "female    662\n",
              "male      678"
            ],
            "text/html": [
              "\n",
              "  <div id=\"df-05562c12-9e14-459f-9668-0d9241d7b90d\">\n",
              "    <div class=\"colab-df-container\">\n",
              "      <div>\n",
              "<style scoped>\n",
              "    .dataframe tbody tr th:only-of-type {\n",
              "        vertical-align: middle;\n",
              "    }\n",
              "\n",
              "    .dataframe tbody tr th {\n",
              "        vertical-align: top;\n",
              "    }\n",
              "\n",
              "    .dataframe thead th {\n",
              "        text-align: right;\n",
              "    }\n",
              "</style>\n",
              "<table border=\"1\" class=\"dataframe\">\n",
              "  <thead>\n",
              "    <tr style=\"text-align: right;\">\n",
              "      <th>col_0</th>\n",
              "      <th>Count</th>\n",
              "    </tr>\n",
              "    <tr>\n",
              "      <th>gender</th>\n",
              "      <th></th>\n",
              "    </tr>\n",
              "  </thead>\n",
              "  <tbody>\n",
              "    <tr>\n",
              "      <th>female</th>\n",
              "      <td>662</td>\n",
              "    </tr>\n",
              "    <tr>\n",
              "      <th>male</th>\n",
              "      <td>678</td>\n",
              "    </tr>\n",
              "  </tbody>\n",
              "</table>\n",
              "</div>\n",
              "      <button class=\"colab-df-convert\" onclick=\"convertToInteractive('df-05562c12-9e14-459f-9668-0d9241d7b90d')\"\n",
              "              title=\"Convert this dataframe to an interactive table.\"\n",
              "              style=\"display:none;\">\n",
              "        \n",
              "  <svg xmlns=\"http://www.w3.org/2000/svg\" height=\"24px\"viewBox=\"0 0 24 24\"\n",
              "       width=\"24px\">\n",
              "    <path d=\"M0 0h24v24H0V0z\" fill=\"none\"/>\n",
              "    <path d=\"M18.56 5.44l.94 2.06.94-2.06 2.06-.94-2.06-.94-.94-2.06-.94 2.06-2.06.94zm-11 1L8.5 8.5l.94-2.06 2.06-.94-2.06-.94L8.5 2.5l-.94 2.06-2.06.94zm10 10l.94 2.06.94-2.06 2.06-.94-2.06-.94-.94-2.06-.94 2.06-2.06.94z\"/><path d=\"M17.41 7.96l-1.37-1.37c-.4-.4-.92-.59-1.43-.59-.52 0-1.04.2-1.43.59L10.3 9.45l-7.72 7.72c-.78.78-.78 2.05 0 2.83L4 21.41c.39.39.9.59 1.41.59.51 0 1.02-.2 1.41-.59l7.78-7.78 2.81-2.81c.8-.78.8-2.07 0-2.86zM5.41 20L4 18.59l7.72-7.72 1.47 1.35L5.41 20z\"/>\n",
              "  </svg>\n",
              "      </button>\n",
              "      \n",
              "  <style>\n",
              "    .colab-df-container {\n",
              "      display:flex;\n",
              "      flex-wrap:wrap;\n",
              "      gap: 12px;\n",
              "    }\n",
              "\n",
              "    .colab-df-convert {\n",
              "      background-color: #E8F0FE;\n",
              "      border: none;\n",
              "      border-radius: 50%;\n",
              "      cursor: pointer;\n",
              "      display: none;\n",
              "      fill: #1967D2;\n",
              "      height: 32px;\n",
              "      padding: 0 0 0 0;\n",
              "      width: 32px;\n",
              "    }\n",
              "\n",
              "    .colab-df-convert:hover {\n",
              "      background-color: #E2EBFA;\n",
              "      box-shadow: 0px 1px 2px rgba(60, 64, 67, 0.3), 0px 1px 3px 1px rgba(60, 64, 67, 0.15);\n",
              "      fill: #174EA6;\n",
              "    }\n",
              "\n",
              "    [theme=dark] .colab-df-convert {\n",
              "      background-color: #3B4455;\n",
              "      fill: #D2E3FC;\n",
              "    }\n",
              "\n",
              "    [theme=dark] .colab-df-convert:hover {\n",
              "      background-color: #434B5C;\n",
              "      box-shadow: 0px 1px 3px 1px rgba(0, 0, 0, 0.15);\n",
              "      filter: drop-shadow(0px 1px 2px rgba(0, 0, 0, 0.3));\n",
              "      fill: #FFFFFF;\n",
              "    }\n",
              "  </style>\n",
              "\n",
              "      <script>\n",
              "        const buttonEl =\n",
              "          document.querySelector('#df-05562c12-9e14-459f-9668-0d9241d7b90d button.colab-df-convert');\n",
              "        buttonEl.style.display =\n",
              "          google.colab.kernel.accessAllowed ? 'block' : 'none';\n",
              "\n",
              "        async function convertToInteractive(key) {\n",
              "          const element = document.querySelector('#df-05562c12-9e14-459f-9668-0d9241d7b90d');\n",
              "          const dataTable =\n",
              "            await google.colab.kernel.invokeFunction('convertToInteractive',\n",
              "                                                     [key], {});\n",
              "          if (!dataTable) return;\n",
              "\n",
              "          const docLinkHtml = 'Like what you see? Visit the ' +\n",
              "            '<a target=\"_blank\" href=https://colab.research.google.com/notebooks/data_table.ipynb>data table notebook</a>'\n",
              "            + ' to learn more about interactive tables.';\n",
              "          element.innerHTML = '';\n",
              "          dataTable['output_type'] = 'display_data';\n",
              "          await google.colab.output.renderOutput(dataTable, element);\n",
              "          const docLink = document.createElement('div');\n",
              "          docLink.innerHTML = docLinkHtml;\n",
              "          element.appendChild(docLink);\n",
              "        }\n",
              "      </script>\n",
              "    </div>\n",
              "  </div>\n",
              "  "
            ]
          },
          "metadata": {},
          "execution_count": 20
        }
      ],
      "source": [
        "gender=pd.crosstab(data_ins.gender,columns=\"Count\")\n",
        "gender"
      ]
    },
    {
      "cell_type": "code",
      "execution_count": 21,
      "id": "dce14891",
      "metadata": {
        "id": "dce14891"
      },
      "outputs": [],
      "source": [
        "value_gender=[662,678]\n",
        "label_gender=[\"Female\",\"Male\"]"
      ]
    },
    {
      "cell_type": "code",
      "execution_count": 22,
      "id": "c4e50b52",
      "metadata": {
        "scrolled": true,
        "colab": {
          "base_uri": "https://localhost:8080/",
          "height": 248
        },
        "id": "c4e50b52",
        "outputId": "8c451c9e-3826-4b0e-f789-f8b5a749b58d"
      },
      "outputs": [
        {
          "output_type": "display_data",
          "data": {
            "text/plain": [
              "<Figure size 432x288 with 1 Axes>"
            ],
            "image/png": "[encoded data removed]"
          },
          "metadata": {}
        }
      ],
      "source": [
        "plt.pie(value_gender,labels=label_gender,autopct=\"%0.2f%%\")\n",
        "plt.show()"
      ]
    },
    {
      "cell_type": "markdown",
      "id": "98c8b4e5",
      "metadata": {
        "id": "98c8b4e5"
      },
      "source": [
        "Clearly, we can see that each gender has an almost equal representation.\n",
        "Treating Gender as a nominal variable, we will be encoding male as '0' and female as '1'."
      ]
    },
    {
      "cell_type": "markdown",
      "id": "1296b62c",
      "metadata": {
        "id": "1296b62c"
      },
      "source": [
        "## BIVARIATE ANALYSIS"
      ]
    },
    {
      "cell_type": "markdown",
      "id": "b9e3ef80",
      "metadata": {
        "id": "b9e3ef80"
      },
      "source": [
        "### BMI and Claim"
      ]
    },
    {
      "cell_type": "code",
      "execution_count": 23,
      "id": "297abfff",
      "metadata": {
        "scrolled": true,
        "colab": {
          "base_uri": "https://localhost:8080/",
          "height": 297
        },
        "id": "297abfff",
        "outputId": "6b981143-ea5c-4f12-ca74-077807d11509"
      },
      "outputs": [
        {
          "output_type": "execute_result",
          "data": {
            "text/plain": [
              "Text(0, 0.5, 'Claim')"
            ]
          },
          "metadata": {},
          "execution_count": 23
        },
        {
          "output_type": "display_data",
          "data": {
            "text/plain": [
              "<Figure size 432x288 with 1 Axes>"
            ],
            "image/png": "[encoded data removed]"
          },
          "metadata": {
            "needs_background": "light"
          }
        }
      ],
      "source": [
        "plt.scatter(data_ins.bmi,data_ins.claim, alpha=0.5)\n",
        "plt.xlabel('BMI')\n",
        "plt.ylabel('Claim')"
      ]
    },
    {
      "cell_type": "markdown",
      "id": "60b7cd3a",
      "metadata": {
        "id": "60b7cd3a"
      },
      "source": [
        "The visual above brings us to the claim below:"
      ]
    },
    {
      "cell_type": "markdown",
      "id": "752b3814",
      "metadata": {
        "id": "752b3814"
      },
      "source": [
        "    Claim 1: The average claim of a person with normal BMI is\n",
        "         less than the avg. claim of a person with abnormal BMI."
      ]
    },
    {
      "cell_type": "markdown",
      "id": "480ec771",
      "metadata": {
        "id": "480ec771"
      },
      "source": [
        "H1: The average claim of a person with normal BMI is\n",
        "     less than the avg. claim of a person with abnormal BMI.\n",
        "\n",
        "H0: The average claim of a person with normal BMI is\n",
        "     equal to or greater than avg. claim of a person with abnormal BMI.\n",
        "     \n",
        "Testing the claim at a significance level of 0.05\n",
        "\n",
        "The test would be a left-tailed test."
      ]
    },
    {
      "cell_type": "code",
      "execution_count": 24,
      "id": "ac236526",
      "metadata": {
        "colab": {
          "base_uri": "https://localhost:8080/"
        },
        "id": "ac236526",
        "outputId": "7ea937e4-6a4a-409b-a388-ec51c8eae2e6"
      },
      "outputs": [
        {
          "output_type": "execute_result",
          "data": {
            "text/plain": [
              "-1.6459932615808077"
            ]
          },
          "metadata": {},
          "execution_count": 24
        }
      ],
      "source": [
        "t_crit = stats.t.ppf(0.05,1340-2)#Calculating the critical value\n",
        "t_crit"
      ]
    },
    {
      "cell_type": "markdown",
      "id": "6692eb29",
      "metadata": {
        "id": "6692eb29"
      },
      "source": [
        "X1 = People with normal BMI\n",
        "\n",
        "X2 = People with abnormal BMI(i.e. underweight, overweight, obese)\n"
      ]
    },
    {
      "cell_type": "code",
      "execution_count": 25,
      "id": "ff2be5ec",
      "metadata": {
        "scrolled": true,
        "colab": {
          "base_uri": "https://localhost:8080/",
          "height": 424
        },
        "id": "ff2be5ec",
        "outputId": "3470a502-06c5-4621-8470-3665ec1a7944"
      },
      "outputs": [
        {
          "output_type": "execute_result",
          "data": {
            "text/plain": [
              "      PatientID   age  gender   bmi  bloodpressure diabetic  children smoker  \\\n",
              "0             1  39.0    male  23.2             91      Yes         0     No   \n",
              "10           11  36.0    male  19.8             88      Yes         0     No   \n",
              "11           12  37.0    male  20.3             90      Yes         0     No   \n",
              "12           13  19.0    male  20.7             81       No         0     No   \n",
              "20           21  45.0    male  23.2             85      Yes         0     No   \n",
              "...         ...   ...     ...   ...            ...      ...       ...    ...   \n",
              "1156       1157  46.0  female  23.0            137      Yes         0    Yes   \n",
              "1157       1158  30.0  female  24.9             91      Yes         0     No   \n",
              "1161       1162  22.0    male  22.4            137      Yes         2     No   \n",
              "1179       1180  19.0    male  24.7             97      Yes         1     No   \n",
              "1207       1208  22.0    male  22.9             80       No         0    Yes   \n",
              "\n",
              "         region     claim  \n",
              "0     southeast   1121.87  \n",
              "10    northwest   1241.57  \n",
              "11    northwest   1242.26  \n",
              "12    northwest   1242.82  \n",
              "20    southeast   1515.34  \n",
              "...         ...       ...  \n",
              "1156  southeast  27037.91  \n",
              "1157  southeast  27117.99  \n",
              "1161  northeast  27375.90  \n",
              "1179  northwest  30166.62  \n",
              "1207  northeast  35069.37  \n",
              "\n",
              "[223 rows x 10 columns]"
            ],
            "text/html": [
              "\n",
              "  <div id=\"df-77dcc127-e2e1-4762-8831-03a53bd9ce2a\">\n",
              "    <div class=\"colab-df-container\">\n",
              "      <div>\n",
              "<style scoped>\n",
              "    .dataframe tbody tr th:only-of-type {\n",
              "        vertical-align: middle;\n",
              "    }\n",
              "\n",
              "    .dataframe tbody tr th {\n",
              "        vertical-align: top;\n",
              "    }\n",
              "\n",
              "    .dataframe thead th {\n",
              "        text-align: right;\n",
              "    }\n",
              "</style>\n",
              "<table border=\"1\" class=\"dataframe\">\n",
              "  <thead>\n",
              "    <tr style=\"text-align: right;\">\n",
              "      <th></th>\n",
              "      <th>PatientID</th>\n",
              "      <th>age</th>\n",
              "      <th>gender</th>\n",
              "      <th>bmi</th>\n",
              "      <th>bloodpressure</th>\n",
              "      <th>diabetic</th>\n",
              "      <th>children</th>\n",
              "      <th>smoker</th>\n",
              "      <th>region</th>\n",
              "      <th>claim</th>\n",
              "    </tr>\n",
              "  </thead>\n",
              "  <tbody>\n",
              "    <tr>\n",
              "      <th>0</th>\n",
              "      <td>1</td>\n",
              "      <td>39.0</td>\n",
              "      <td>male</td>\n",
              "      <td>23.2</td>\n",
              "      <td>91</td>\n",
              "      <td>Yes</td>\n",
              "      <td>0</td>\n",
              "      <td>No</td>\n",
              "      <td>southeast</td>\n",
              "      <td>1121.87</td>\n",
              "    </tr>\n",
              "    <tr>\n",
              "      <th>10</th>\n",
              "      <td>11</td>\n",
              "      <td>36.0</td>\n",
              "      <td>male</td>\n",
              "      <td>19.8</td>\n",
              "      <td>88</td>\n",
              "      <td>Yes</td>\n",
              "      <td>0</td>\n",
              "      <td>No</td>\n",
              "      <td>northwest</td>\n",
              "      <td>1241.57</td>\n",
              "    </tr>\n",
              "    <tr>\n",
              "      <th>11</th>\n",
              "      <td>12</td>\n",
              "      <td>37.0</td>\n",
              "      <td>male</td>\n",
              "      <td>20.3</td>\n",
              "      <td>90</td>\n",
              "      <td>Yes</td>\n",
              "      <td>0</td>\n",
              "      <td>No</td>\n",
              "      <td>northwest</td>\n",
              "      <td>1242.26</td>\n",
              "    </tr>\n",
              "    <tr>\n",
              "      <th>12</th>\n",
              "      <td>13</td>\n",
              "      <td>19.0</td>\n",
              "      <td>male</td>\n",
              "      <td>20.7</td>\n",
              "      <td>81</td>\n",
              "      <td>No</td>\n",
              "      <td>0</td>\n",
              "      <td>No</td>\n",
              "      <td>northwest</td>\n",
              "      <td>1242.82</td>\n",
              "    </tr>\n",
              "    <tr>\n",
              "      <th>20</th>\n",
              "      <td>21</td>\n",
              "      <td>45.0</td>\n",
              "      <td>male</td>\n",
              "      <td>23.2</td>\n",
              "      <td>85</td>\n",
              "      <td>Yes</td>\n",
              "      <td>0</td>\n",
              "      <td>No</td>\n",
              "      <td>southeast</td>\n",
              "      <td>1515.34</td>\n",
              "    </tr>\n",
              "    <tr>\n",
              "      <th>...</th>\n",
              "      <td>...</td>\n",
              "      <td>...</td>\n",
              "      <td>...</td>\n",
              "      <td>...</td>\n",
              "      <td>...</td>\n",
              "      <td>...</td>\n",
              "      <td>...</td>\n",
              "      <td>...</td>\n",
              "      <td>...</td>\n",
              "      <td>...</td>\n",
              "    </tr>\n",
              "    <tr>\n",
              "      <th>1156</th>\n",
              "      <td>1157</td>\n",
              "      <td>46.0</td>\n",
              "      <td>female</td>\n",
              "      <td>23.0</td>\n",
              "      <td>137</td>\n",
              "      <td>Yes</td>\n",
              "      <td>0</td>\n",
              "      <td>Yes</td>\n",
              "      <td>southeast</td>\n",
              "      <td>27037.91</td>\n",
              "    </tr>\n",
              "    <tr>\n",
              "      <th>1157</th>\n",
              "      <td>1158</td>\n",
              "      <td>30.0</td>\n",
              "      <td>female</td>\n",
              "      <td>24.9</td>\n",
              "      <td>91</td>\n",
              "      <td>Yes</td>\n",
              "      <td>0</td>\n",
              "      <td>No</td>\n",
              "      <td>southeast</td>\n",
              "      <td>27117.99</td>\n",
              "    </tr>\n",
              "    <tr>\n",
              "      <th>1161</th>\n",
              "      <td>1162</td>\n",
              "      <td>22.0</td>\n",
              "      <td>male</td>\n",
              "      <td>22.4</td>\n",
              "      <td>137</td>\n",
              "      <td>Yes</td>\n",
              "      <td>2</td>\n",
              "      <td>No</td>\n",
              "      <td>northeast</td>\n",
              "      <td>27375.90</td>\n",
              "    </tr>\n",
              "    <tr>\n",
              "      <th>1179</th>\n",
              "      <td>1180</td>\n",
              "      <td>19.0</td>\n",
              "      <td>male</td>\n",
              "      <td>24.7</td>\n",
              "      <td>97</td>\n",
              "      <td>Yes</td>\n",
              "      <td>1</td>\n",
              "      <td>No</td>\n",
              "      <td>northwest</td>\n",
              "      <td>30166.62</td>\n",
              "    </tr>\n",
              "    <tr>\n",
              "      <th>1207</th>\n",
              "      <td>1208</td>\n",
              "      <td>22.0</td>\n",
              "      <td>male</td>\n",
              "      <td>22.9</td>\n",
              "      <td>80</td>\n",
              "      <td>No</td>\n",
              "      <td>0</td>\n",
              "      <td>Yes</td>\n",
              "      <td>northeast</td>\n",
              "      <td>35069.37</td>\n",
              "    </tr>\n",
              "  </tbody>\n",
              "</table>\n",
              "<p>223 rows × 10 columns</p>\n",
              "</div>\n",
              "      <button class=\"colab-df-convert\" onclick=\"convertToInteractive('df-77dcc127-e2e1-4762-8831-03a53bd9ce2a')\"\n",
              "              title=\"Convert this dataframe to an interactive table.\"\n",
              "              style=\"display:none;\">\n",
              "        \n",
              "  <svg xmlns=\"http://www.w3.org/2000/svg\" height=\"24px\"viewBox=\"0 0 24 24\"\n",
              "       width=\"24px\">\n",
              "    <path d=\"M0 0h24v24H0V0z\" fill=\"none\"/>\n",
              "    <path d=\"M18.56 5.44l.94 2.06.94-2.06 2.06-.94-2.06-.94-.94-2.06-.94 2.06-2.06.94zm-11 1L8.5 8.5l.94-2.06 2.06-.94-2.06-.94L8.5 2.5l-.94 2.06-2.06.94zm10 10l.94 2.06.94-2.06 2.06-.94-2.06-.94-.94-2.06-.94 2.06-2.06.94z\"/><path d=\"M17.41 7.96l-1.37-1.37c-.4-.4-.92-.59-1.43-.59-.52 0-1.04.2-1.43.59L10.3 9.45l-7.72 7.72c-.78.78-.78 2.05 0 2.83L4 21.41c.39.39.9.59 1.41.59.51 0 1.02-.2 1.41-.59l7.78-7.78 2.81-2.81c.8-.78.8-2.07 0-2.86zM5.41 20L4 18.59l7.72-7.72 1.47 1.35L5.41 20z\"/>\n",
              "  </svg>\n",
              "      </button>\n",
              "      \n",
              "  <style>\n",
              "    .colab-df-container {\n",
              "      display:flex;\n",
              "      flex-wrap:wrap;\n",
              "      gap: 12px;\n",
              "    }\n",
              "\n",
              "    .colab-df-convert {\n",
              "      background-color: #E8F0FE;\n",
              "      border: none;\n",
              "      border-radius: 50%;\n",
              "      cursor: pointer;\n",
              "      display: none;\n",
              "      fill: #1967D2;\n",
              "      height: 32px;\n",
              "      padding: 0 0 0 0;\n",
              "      width: 32px;\n",
              "    }\n",
              "\n",
              "    .colab-df-convert:hover {\n",
              "      background-color: #E2EBFA;\n",
              "      box-shadow: 0px 1px 2px rgba(60, 64, 67, 0.3), 0px 1px 3px 1px rgba(60, 64, 67, 0.15);\n",
              "      fill: #174EA6;\n",
              "    }\n",
              "\n",
              "    [theme=dark] .colab-df-convert {\n",
              "      background-color: #3B4455;\n",
              "      fill: #D2E3FC;\n",
              "    }\n",
              "\n",
              "    [theme=dark] .colab-df-convert:hover {\n",
              "      background-color: #434B5C;\n",
              "      box-shadow: 0px 1px 3px 1px rgba(0, 0, 0, 0.15);\n",
              "      filter: drop-shadow(0px 1px 2px rgba(0, 0, 0, 0.3));\n",
              "      fill: #FFFFFF;\n",
              "    }\n",
              "  </style>\n",
              "\n",
              "      <script>\n",
              "        const buttonEl =\n",
              "          document.querySelector('#df-77dcc127-e2e1-4762-8831-03a53bd9ce2a button.colab-df-convert');\n",
              "        buttonEl.style.display =\n",
              "          google.colab.kernel.accessAllowed ? 'block' : 'none';\n",
              "\n",
              "        async function convertToInteractive(key) {\n",
              "          const element = document.querySelector('#df-77dcc127-e2e1-4762-8831-03a53bd9ce2a');\n",
              "          const dataTable =\n",
              "            await google.colab.kernel.invokeFunction('convertToInteractive',\n",
              "                                                     [key], {});\n",
              "          if (!dataTable) return;\n",
              "\n",
              "          const docLinkHtml = 'Like what you see? Visit the ' +\n",
              "            '<a target=\"_blank\" href=https://colab.research.google.com/notebooks/data_table.ipynb>data table notebook</a>'\n",
              "            + ' to learn more about interactive tables.';\n",
              "          element.innerHTML = '';\n",
              "          dataTable['output_type'] = 'display_data';\n",
              "          await google.colab.output.renderOutput(dataTable, element);\n",
              "          const docLink = document.createElement('div');\n",
              "          docLink.innerHTML = docLinkHtml;\n",
              "          element.appendChild(docLink);\n",
              "        }\n",
              "      </script>\n",
              "    </div>\n",
              "  </div>\n",
              "  "
            ]
          },
          "metadata": {},
          "execution_count": 25
        }
      ],
      "source": [
        "X1 = data_ins.loc[(data_ins[\"bmi\"] >= 18.5) & (data_ins[\"bmi\"] <= 24.9)]\n",
        "X1"
      ]
    },
    {
      "cell_type": "code",
      "execution_count": 26,
      "id": "e5f4e81f",
      "metadata": {
        "scrolled": true,
        "colab": {
          "base_uri": "https://localhost:8080/",
          "height": 424
        },
        "id": "e5f4e81f",
        "outputId": "cfb9585b-66a6-4f73-e8fa-5651ae5034ef"
      },
      "outputs": [
        {
          "output_type": "execute_result",
          "data": {
            "text/plain": [
              "      PatientID        age  gender   bmi  bloodpressure diabetic  children  \\\n",
              "1             2  24.000000    male  30.1             87       No         0   \n",
              "2             3  38.078652    male  33.3             82      Yes         0   \n",
              "3             4  38.078652    male  33.7             80       No         0   \n",
              "4             5  38.078652    male  34.1            100       No         0   \n",
              "5             6  38.078652    male  34.4             96      Yes         0   \n",
              "...         ...        ...     ...   ...            ...      ...       ...   \n",
              "1335       1336  44.000000  female  35.5             88      Yes         0   \n",
              "1336       1337  59.000000  female  38.1            120       No         1   \n",
              "1337       1338  30.000000    male  34.5             91      Yes         3   \n",
              "1338       1339  37.000000    male  30.4            106       No         0   \n",
              "1339       1340  30.000000  female  47.4            101       No         0   \n",
              "\n",
              "     smoker     region     claim  \n",
              "1        No  southeast   1131.51  \n",
              "2        No  southeast   1135.94  \n",
              "3        No  northwest   1136.40  \n",
              "4        No  northwest   1137.01  \n",
              "5        No  northwest   1137.47  \n",
              "...     ...        ...       ...  \n",
              "1335    Yes  northwest  55135.40  \n",
              "1336    Yes  northeast  58571.07  \n",
              "1337    Yes  northwest  60021.40  \n",
              "1338    Yes  southeast  62592.87  \n",
              "1339    Yes  southeast  63770.43  \n",
              "\n",
              "[1117 rows x 10 columns]"
            ],
            "text/html": [
              "\n",
              "  <div id=\"df-aaf37645-3323-4e2b-998e-feef82789984\">\n",
              "    <div class=\"colab-df-container\">\n",
              "      <div>\n",
              "<style scoped>\n",
              "    .dataframe tbody tr th:only-of-type {\n",
              "        vertical-align: middle;\n",
              "    }\n",
              "\n",
              "    .dataframe tbody tr th {\n",
              "        vertical-align: top;\n",
              "    }\n",
              "\n",
              "    .dataframe thead th {\n",
              "        text-align: right;\n",
              "    }\n",
              "</style>\n",
              "<table border=\"1\" class=\"dataframe\">\n",
              "  <thead>\n",
              "    <tr style=\"text-align: right;\">\n",
              "      <th></th>\n",
              "      <th>PatientID</th>\n",
              "      <th>age</th>\n",
              "      <th>gender</th>\n",
              "      <th>bmi</th>\n",
              "      <th>bloodpressure</th>\n",
              "      <th>diabetic</th>\n",
              "      <th>children</th>\n",
              "      <th>smoker</th>\n",
              "      <th>region</th>\n",
              "      <th>claim</th>\n",
              "    </tr>\n",
              "  </thead>\n",
              "  <tbody>\n",
              "    <tr>\n",
              "      <th>1</th>\n",
              "      <td>2</td>\n",
              "      <td>24.000000</td>\n",
              "      <td>male</td>\n",
              "      <td>30.1</td>\n",
              "      <td>87</td>\n",
              "      <td>No</td>\n",
              "      <td>0</td>\n",
              "      <td>No</td>\n",
              "      <td>southeast</td>\n",
              "      <td>1131.51</td>\n",
              "    </tr>\n",
              "    <tr>\n",
              "      <th>2</th>\n",
              "      <td>3</td>\n",
              "      <td>38.078652</td>\n",
              "      <td>male</td>\n",
              "      <td>33.3</td>\n",
              "      <td>82</td>\n",
              "      <td>Yes</td>\n",
              "      <td>0</td>\n",
              "      <td>No</td>\n",
              "      <td>southeast</td>\n",
              "      <td>1135.94</td>\n",
              "    </tr>\n",
              "    <tr>\n",
              "      <th>3</th>\n",
              "      <td>4</td>\n",
              "      <td>38.078652</td>\n",
              "      <td>male</td>\n",
              "      <td>33.7</td>\n",
              "      <td>80</td>\n",
              "      <td>No</td>\n",
              "      <td>0</td>\n",
              "      <td>No</td>\n",
              "      <td>northwest</td>\n",
              "      <td>1136.40</td>\n",
              "    </tr>\n",
              "    <tr>\n",
              "      <th>4</th>\n",
              "      <td>5</td>\n",
              "      <td>38.078652</td>\n",
              "      <td>male</td>\n",
              "      <td>34.1</td>\n",
              "      <td>100</td>\n",
              "      <td>No</td>\n",
              "      <td>0</td>\n",
              "      <td>No</td>\n",
              "      <td>northwest</td>\n",
              "      <td>1137.01</td>\n",
              "    </tr>\n",
              "    <tr>\n",
              "      <th>5</th>\n",
              "      <td>6</td>\n",
              "      <td>38.078652</td>\n",
              "      <td>male</td>\n",
              "      <td>34.4</td>\n",
              "      <td>96</td>\n",
              "      <td>Yes</td>\n",
              "      <td>0</td>\n",
              "      <td>No</td>\n",
              "      <td>northwest</td>\n",
              "      <td>1137.47</td>\n",
              "    </tr>\n",
              "    <tr>\n",
              "      <th>...</th>\n",
              "      <td>...</td>\n",
              "      <td>...</td>\n",
              "      <td>...</td>\n",
              "      <td>...</td>\n",
              "      <td>...</td>\n",
              "      <td>...</td>\n",
              "      <td>...</td>\n",
              "      <td>...</td>\n",
              "      <td>...</td>\n",
              "      <td>...</td>\n",
              "    </tr>\n",
              "    <tr>\n",
              "      <th>1335</th>\n",
              "      <td>1336</td>\n",
              "      <td>44.000000</td>\n",
              "      <td>female</td>\n",
              "      <td>35.5</td>\n",
              "      <td>88</td>\n",
              "      <td>Yes</td>\n",
              "      <td>0</td>\n",
              "      <td>Yes</td>\n",
              "      <td>northwest</td>\n",
              "      <td>55135.40</td>\n",
              "    </tr>\n",
              "    <tr>\n",
              "      <th>1336</th>\n",
              "      <td>1337</td>\n",
              "      <td>59.000000</td>\n",
              "      <td>female</td>\n",
              "      <td>38.1</td>\n",
              "      <td>120</td>\n",
              "      <td>No</td>\n",
              "      <td>1</td>\n",
              "      <td>Yes</td>\n",
              "      <td>northeast</td>\n",
              "      <td>58571.07</td>\n",
              "    </tr>\n",
              "    <tr>\n",
              "      <th>1337</th>\n",
              "      <td>1338</td>\n",
              "      <td>30.000000</td>\n",
              "      <td>male</td>\n",
              "      <td>34.5</td>\n",
              "      <td>91</td>\n",
              "      <td>Yes</td>\n",
              "      <td>3</td>\n",
              "      <td>Yes</td>\n",
              "      <td>northwest</td>\n",
              "      <td>60021.40</td>\n",
              "    </tr>\n",
              "    <tr>\n",
              "      <th>1338</th>\n",
              "      <td>1339</td>\n",
              "      <td>37.000000</td>\n",
              "      <td>male</td>\n",
              "      <td>30.4</td>\n",
              "      <td>106</td>\n",
              "      <td>No</td>\n",
              "      <td>0</td>\n",
              "      <td>Yes</td>\n",
              "      <td>southeast</td>\n",
              "      <td>62592.87</td>\n",
              "    </tr>\n",
              "    <tr>\n",
              "      <th>1339</th>\n",
              "      <td>1340</td>\n",
              "      <td>30.000000</td>\n",
              "      <td>female</td>\n",
              "      <td>47.4</td>\n",
              "      <td>101</td>\n",
              "      <td>No</td>\n",
              "      <td>0</td>\n",
              "      <td>Yes</td>\n",
              "      <td>southeast</td>\n",
              "      <td>63770.43</td>\n",
              "    </tr>\n",
              "  </tbody>\n",
              "</table>\n",
              "<p>1117 rows × 10 columns</p>\n",
              "</div>\n",
              "      <button class=\"colab-df-convert\" onclick=\"convertToInteractive('df-aaf37645-3323-4e2b-998e-feef82789984')\"\n",
              "              title=\"Convert this dataframe to an interactive table.\"\n",
              "              style=\"display:none;\">\n",
              "        \n",
              "  <svg xmlns=\"http://www.w3.org/2000/svg\" height=\"24px\"viewBox=\"0 0 24 24\"\n",
              "       width=\"24px\">\n",
              "    <path d=\"M0 0h24v24H0V0z\" fill=\"none\"/>\n",
              "    <path d=\"M18.56 5.44l.94 2.06.94-2.06 2.06-.94-2.06-.94-.94-2.06-.94 2.06-2.06.94zm-11 1L8.5 8.5l.94-2.06 2.06-.94-2.06-.94L8.5 2.5l-.94 2.06-2.06.94zm10 10l.94 2.06.94-2.06 2.06-.94-2.06-.94-.94-2.06-.94 2.06-2.06.94z\"/><path d=\"M17.41 7.96l-1.37-1.37c-.4-.4-.92-.59-1.43-.59-.52 0-1.04.2-1.43.59L10.3 9.45l-7.72 7.72c-.78.78-.78 2.05 0 2.83L4 21.41c.39.39.9.59 1.41.59.51 0 1.02-.2 1.41-.59l7.78-7.78 2.81-2.81c.8-.78.8-2.07 0-2.86zM5.41 20L4 18.59l7.72-7.72 1.47 1.35L5.41 20z\"/>\n",
              "  </svg>\n",
              "      </button>\n",
              "      \n",
              "  <style>\n",
              "    .colab-df-container {\n",
              "      display:flex;\n",
              "      flex-wrap:wrap;\n",
              "      gap: 12px;\n",
              "    }\n",
              "\n",
              "    .colab-df-convert {\n",
              "      background-color: #E8F0FE;\n",
              "      border: none;\n",
              "      border-radius: 50%;\n",
              "      cursor: pointer;\n",
              "      display: none;\n",
              "      fill: #1967D2;\n",
              "      height: 32px;\n",
              "      padding: 0 0 0 0;\n",
              "      width: 32px;\n",
              "    }\n",
              "\n",
              "    .colab-df-convert:hover {\n",
              "      background-color: #E2EBFA;\n",
              "      box-shadow: 0px 1px 2px rgba(60, 64, 67, 0.3), 0px 1px 3px 1px rgba(60, 64, 67, 0.15);\n",
              "      fill: #174EA6;\n",
              "    }\n",
              "\n",
              "    [theme=dark] .colab-df-convert {\n",
              "      background-color: #3B4455;\n",
              "      fill: #D2E3FC;\n",
              "    }\n",
              "\n",
              "    [theme=dark] .colab-df-convert:hover {\n",
              "      background-color: #434B5C;\n",
              "      box-shadow: 0px 1px 3px 1px rgba(0, 0, 0, 0.15);\n",
              "      filter: drop-shadow(0px 1px 2px rgba(0, 0, 0, 0.3));\n",
              "      fill: #FFFFFF;\n",
              "    }\n",
              "  </style>\n",
              "\n",
              "      <script>\n",
              "        const buttonEl =\n",
              "          document.querySelector('#df-aaf37645-3323-4e2b-998e-feef82789984 button.colab-df-convert');\n",
              "        buttonEl.style.display =\n",
              "          google.colab.kernel.accessAllowed ? 'block' : 'none';\n",
              "\n",
              "        async function convertToInteractive(key) {\n",
              "          const element = document.querySelector('#df-aaf37645-3323-4e2b-998e-feef82789984');\n",
              "          const dataTable =\n",
              "            await google.colab.kernel.invokeFunction('convertToInteractive',\n",
              "                                                     [key], {});\n",
              "          if (!dataTable) return;\n",
              "\n",
              "          const docLinkHtml = 'Like what you see? Visit the ' +\n",
              "            '<a target=\"_blank\" href=https://colab.research.google.com/notebooks/data_table.ipynb>data table notebook</a>'\n",
              "            + ' to learn more about interactive tables.';\n",
              "          element.innerHTML = '';\n",
              "          dataTable['output_type'] = 'display_data';\n",
              "          await google.colab.output.renderOutput(dataTable, element);\n",
              "          const docLink = document.createElement('div');\n",
              "          docLink.innerHTML = docLinkHtml;\n",
              "          element.appendChild(docLink);\n",
              "        }\n",
              "      </script>\n",
              "    </div>\n",
              "  </div>\n",
              "  "
            ]
          },
          "metadata": {},
          "execution_count": 26
        }
      ],
      "source": [
        "X2 = data_ins.loc[(data_ins[\"bmi\"] < 18.5) | (data_ins[\"bmi\"] > 24.9)]\n",
        "X2"
      ]
    },
    {
      "cell_type": "code",
      "execution_count": 27,
      "id": "ee8349e2",
      "metadata": {
        "scrolled": true,
        "colab": {
          "base_uri": "https://localhost:8080/"
        },
        "id": "ee8349e2",
        "outputId": "7798b0cd-927c-49f9-a537-93d53ce518ed"
      },
      "outputs": [
        {
          "output_type": "execute_result",
          "data": {
            "text/plain": [
              "(56344733.1811858, 162703610.31514734)"
            ]
          },
          "metadata": {},
          "execution_count": 27
        }
      ],
      "source": [
        "var1 = X1.claim.var()\n",
        "var2 = X2.claim.var()\n",
        "var1,var2"
      ]
    },
    {
      "cell_type": "markdown",
      "id": "37036dd6",
      "metadata": {
        "id": "37036dd6"
      },
      "source": [
        "The variance has a huge value which may be make the calculations complex.\n",
        "So we must keep in mind that we can do a log-transform of the claim later as along with making calculation easier it can help deal with the outliers that exist within claim itself."
      ]
    },
    {
      "cell_type": "code",
      "execution_count": 28,
      "id": "29689f15",
      "metadata": {
        "colab": {
          "base_uri": "https://localhost:8080/"
        },
        "id": "29689f15",
        "outputId": "6bf37121-82f8-4eea-f15d-b76364932292"
      },
      "outputs": [
        {
          "output_type": "execute_result",
          "data": {
            "text/plain": [
              "-5.535340885844434"
            ]
          },
          "metadata": {},
          "execution_count": 28
        }
      ],
      "source": [
        "t_stat = (X1.claim.mean() - X2.claim.mean())/np.sqrt((var1/223)+(var2/1117))\n",
        "t_stat"
      ]
    },
    {
      "cell_type": "code",
      "execution_count": 29,
      "id": "e355357a",
      "metadata": {
        "colab": {
          "base_uri": "https://localhost:8080/"
        },
        "id": "e355357a",
        "outputId": "6788215b-012f-4c6d-eb8a-273128295fbe"
      },
      "outputs": [
        {
          "output_type": "execute_result",
          "data": {
            "text/plain": [
              "1.86678477284563e-08"
            ]
          },
          "metadata": {},
          "execution_count": 29
        }
      ],
      "source": [
        "stats.t.cdf(t_stat,1340-2)"
      ]
    },
    {
      "cell_type": "markdown",
      "id": "b6d7a784",
      "metadata": {
        "id": "b6d7a784"
      },
      "source": [
        "Since the t-statistic value is less than the critical value, hence our null hypothesis can be rejected."
      ]
    },
    {
      "cell_type": "markdown",
      "id": "82eb4ef0",
      "metadata": {
        "id": "82eb4ef0"
      },
      "source": [
        "Hence, we can proceed with the claim, that the average insurance claim of people with \n",
        "normal bmi is less than the average insurance claim of people with abnormal bmi.\n",
        "This may be used later in feature engineering."
      ]
    },
    {
      "cell_type": "markdown",
      "id": "fe5843c0",
      "metadata": {
        "id": "fe5843c0"
      },
      "source": [
        "### Region and Claim"
      ]
    },
    {
      "cell_type": "code",
      "execution_count": 30,
      "id": "e533380d",
      "metadata": {
        "scrolled": true,
        "colab": {
          "base_uri": "https://localhost:8080/"
        },
        "id": "e533380d",
        "outputId": "c3597def-5a45-4c0f-e820-b2bc668f69df"
      },
      "outputs": [
        {
          "output_type": "execute_result",
          "data": {
            "text/plain": [
              "array(['southeast', 'northwest', 'southwest', 'northeast'], dtype=object)"
            ]
          },
          "metadata": {},
          "execution_count": 30
        }
      ],
      "source": [
        "data_ins.region.unique() #Checking for the unique values of region"
      ]
    },
    {
      "cell_type": "code",
      "execution_count": 31,
      "id": "0068e0d5",
      "metadata": {
        "scrolled": true,
        "colab": {
          "base_uri": "https://localhost:8080/"
        },
        "id": "0068e0d5",
        "outputId": "17cfa833-7574-489d-a583-d9ec318b0af6"
      },
      "outputs": [
        {
          "output_type": "execute_result",
          "data": {
            "text/plain": [
              "0        1121.87\n",
              "1        1131.51\n",
              "2        1135.94\n",
              "3        1136.40\n",
              "4        1137.01\n",
              "          ...   \n",
              "1335    55135.40\n",
              "1336    58571.07\n",
              "1337    60021.40\n",
              "1338    62592.87\n",
              "1339    63770.43\n",
              "Name: claim, Length: 1340, dtype: float64"
            ]
          },
          "metadata": {},
          "execution_count": 31
        }
      ],
      "source": [
        "data_ins.claim"
      ]
    },
    {
      "cell_type": "markdown",
      "id": "43e36f77",
      "metadata": {
        "id": "43e36f77"
      },
      "source": [
        "Plotting a visual representation of the mean claim amounts of each region:"
      ]
    },
    {
      "cell_type": "code",
      "execution_count": 32,
      "id": "3811f666",
      "metadata": {
        "colab": {
          "base_uri": "https://localhost:8080/"
        },
        "id": "3811f666",
        "outputId": "de5cbe29-b773-47a6-ef3d-6240610d26a2"
      },
      "outputs": [
        {
          "output_type": "execute_result",
          "data": {
            "text/plain": [
              "[12979.121502242155,\n",
              " 16889.044718614718,\n",
              " 11672.088452722064,\n",
              " 12723.129840764333]"
            ]
          },
          "metadata": {},
          "execution_count": 32
        }
      ],
      "source": [
        "means = []\n",
        "southeast_mean = np.asarray(data_ins[data_ins[\"region\"]=='southeast'].claim).mean()\n",
        "northeast_mean = np.asarray(data_ins[data_ins[\"region\"]=='northeast'].claim).mean()\n",
        "northwest_mean = np.asarray(data_ins[data_ins[\"region\"]=='northwest'].claim).mean()\n",
        "southwest_mean = np.asarray(data_ins[data_ins[\"region\"]=='southwest'].claim).mean()\n",
        "means.append(southeast_mean),means.append(northeast_mean),means.append(northwest_mean),means.append(southwest_mean)\n",
        "means"
      ]
    },
    {
      "cell_type": "code",
      "execution_count": 33,
      "id": "1be2b6e2",
      "metadata": {
        "id": "1be2b6e2"
      },
      "outputs": [],
      "source": [
        "region = ['southeast','northeast','northwest','southwest']"
      ]
    },
    {
      "cell_type": "code",
      "execution_count": 34,
      "id": "9b02e8c5",
      "metadata": {
        "scrolled": false,
        "colab": {
          "base_uri": "https://localhost:8080/",
          "height": 283
        },
        "id": "9b02e8c5",
        "outputId": "4890ae51-5752-4280-c44c-c6c90de750d3"
      },
      "outputs": [
        {
          "output_type": "execute_result",
          "data": {
            "text/plain": [
              "<BarContainer object of 4 artists>"
            ]
          },
          "metadata": {},
          "execution_count": 34
        },
        {
          "output_type": "display_data",
          "data": {
            "text/plain": [
              "<Figure size 432x288 with 1 Axes>"
            ],
            "image/png": "[encoded data removed]"
          },
          "metadata": {
            "needs_background": "light"
          }
        }
      ],
      "source": [
        "plt.bar(region, means, color ='black', width = 0.4)"
      ]
    },
    {
      "cell_type": "markdown",
      "id": "54c8e602",
      "metadata": {
        "id": "54c8e602"
      },
      "source": [
        "To once confirm the visual above, we needed to test the claim that:"
      ]
    },
    {
      "cell_type": "markdown",
      "id": "8ea3e340",
      "metadata": {
        "id": "8ea3e340"
      },
      "source": [
        "    Claim 2: The average insurance claim amount does not depend on the region."
      ]
    },
    {
      "cell_type": "markdown",
      "id": "0bf77e7b",
      "metadata": {
        "id": "0bf77e7b"
      },
      "source": [
        "H1: The average insurance claim amount is different across different regions.\n",
        "    \n",
        "H0: The average insurance claim is same for all regions.\n",
        "\n",
        "Testing the claim at a significance level = 0.05\n",
        "\n",
        "This will be a right-tailed test"
      ]
    },
    {
      "cell_type": "markdown",
      "id": "b726e343",
      "metadata": {
        "id": "b726e343"
      },
      "source": [
        "Applying one-way Annova:"
      ]
    },
    {
      "cell_type": "code",
      "execution_count": 35,
      "id": "d7e1b866",
      "metadata": {
        "id": "d7e1b866"
      },
      "outputs": [],
      "source": [
        "southeast = np.asarray(data_ins[data_ins[\"region\"]=='southeast'].claim)\n",
        "northeast = np.asarray(data_ins[data_ins[\"region\"]=='northeast'].claim)\n",
        "northwest = np.asarray(data_ins[data_ins[\"region\"]=='northwest'].claim)\n",
        "southwest = np.asarray(data_ins[data_ins[\"region\"]=='southwest'].claim)"
      ]
    },
    {
      "cell_type": "code",
      "execution_count": 36,
      "id": "a8550c7b",
      "metadata": {
        "scrolled": true,
        "colab": {
          "base_uri": "https://localhost:8080/"
        },
        "id": "a8550c7b",
        "outputId": "e9ae1e79-74af-402e-a6c9-30b0d6d9f73b"
      },
      "outputs": [
        {
          "output_type": "execute_result",
          "data": {
            "text/plain": [
              "(12979.121502242155, 16889.044718614718)"
            ]
          },
          "metadata": {},
          "execution_count": 36
        }
      ],
      "source": [
        "southeast.mean(),northeast.mean()\n"
      ]
    },
    {
      "cell_type": "code",
      "execution_count": 37,
      "id": "b060f2da",
      "metadata": {
        "scrolled": true,
        "colab": {
          "base_uri": "https://localhost:8080/"
        },
        "id": "b060f2da",
        "outputId": "fa35dff5-bfe7-4005-fa27-0bb5690bbd1e"
      },
      "outputs": [
        {
          "output_type": "execute_result",
          "data": {
            "text/plain": [
              "F_onewayResult(statistic=9.373845345028654, pvalue=3.923910319360799e-06)"
            ]
          },
          "metadata": {},
          "execution_count": 37
        }
      ],
      "source": [
        "stats.f_oneway(southeast,northeast,northwest,southwest)"
      ]
    },
    {
      "cell_type": "markdown",
      "id": "58bc3411",
      "metadata": {
        "id": "58bc3411"
      },
      "source": [
        "Since p-value is less than 0.05, we can reject the Null Hypothesis.\n",
        "Hence we can say that there is sufficient evidence to suggest that there exists a difference in the average claims across different regions."
      ]
    },
    {
      "cell_type": "markdown",
      "id": "630f95b0",
      "metadata": {
        "id": "630f95b0"
      },
      "source": [
        "__Using Tukey's test to determine exactly which group means are different:__"
      ]
    },
    {
      "cell_type": "code",
      "execution_count": 38,
      "id": "cddb07a7",
      "metadata": {
        "colab": {
          "base_uri": "https://localhost:8080/"
        },
        "id": "cddb07a7",
        "outputId": "393475c6-513b-4211-9b86-d28500984c36"
      },
      "outputs": [
        {
          "output_type": "stream",
          "name": "stdout",
          "text": [
            "       Multiple Comparison of Means - Tukey HSD, FWER=0.05        \n",
            "==================================================================\n",
            "  group1    group2   meandiff  p-adj    lower      upper    reject\n",
            "------------------------------------------------------------------\n",
            "northeast northwest -5216.9563  0.001 -7834.5825 -2599.3301   True\n",
            "northeast southeast -3909.9232  0.001 -6411.6118 -1408.2346   True\n",
            "northeast southwest -4165.9149  0.001 -6841.0133 -1490.8164   True\n",
            "northwest southeast   1307.033 0.4246  -898.5111  3512.5772  False\n",
            "northwest southwest  1051.0414 0.6531 -1349.4025  3451.4853  False\n",
            "southeast southwest  -255.9917    0.9 -2529.4494   2017.466  False\n",
            "------------------------------------------------------------------\n"
          ]
        }
      ],
      "source": [
        "tukey = pairwise_tukeyhsd(endog=data_ins['claim'], groups=data_ins['region'], alpha=0.05)\n",
        "print(tukey)"
      ]
    },
    {
      "cell_type": "markdown",
      "id": "ef68e479",
      "metadata": {
        "id": "ef68e479"
      },
      "source": [
        "Clearly, the p-value is 0.001 i.e. less than 0.05 for the first 3 rows above,\n",
        "So our null hypothesis can be rejected for these \n",
        "i.e. The average insurance claim amount is different across the respective pairs of regions"
      ]
    },
    {
      "cell_type": "markdown",
      "id": "91e254d3",
      "metadata": {
        "id": "91e254d3"
      },
      "source": [
        "Hence we can say that there is a significant difference between the average claim amounts \n",
        "between Northeast and all other regions.\n",
        "This may be used later during feature engineering."
      ]
    },
    {
      "cell_type": "markdown",
      "id": "7daa585e",
      "metadata": {
        "id": "7daa585e"
      },
      "source": [
        "## Gender and Claim"
      ]
    },
    {
      "cell_type": "code",
      "execution_count": 39,
      "id": "b0ff481b",
      "metadata": {
        "scrolled": false,
        "colab": {
          "base_uri": "https://localhost:8080/",
          "height": 283
        },
        "id": "b0ff481b",
        "outputId": "f45a058f-b8e4-4683-dda8-88167584a739"
      },
      "outputs": [
        {
          "output_type": "execute_result",
          "data": {
            "text/plain": [
              "<BarContainer object of 1340 artists>"
            ]
          },
          "metadata": {},
          "execution_count": 39
        },
        {
          "output_type": "display_data",
          "data": {
            "text/plain": [
              "<Figure size 432x288 with 1 Axes>"
            ],
            "image/png": "[encoded data removed]"
          },
          "metadata": {
            "needs_background": "light"
          }
        }
      ],
      "source": [
        "plt.bar(data_ins.gender, data_ins.claim, color ='black', width = 0.4)"
      ]
    },
    {
      "cell_type": "markdown",
      "id": "2317bb0a",
      "metadata": {
        "id": "2317bb0a"
      },
      "source": [
        "There wasn't anything clear from the visual representation of the graph. But to be sure about \n",
        "whether gender affects the claim amount we would be trying a hypothesis test for the same."
      ]
    },
    {
      "cell_type": "markdown",
      "id": "ae880fc6",
      "metadata": {
        "id": "ae880fc6"
      },
      "source": [
        "    Claim: The average insurance claim amount of males is greater than that of females."
      ]
    },
    {
      "cell_type": "markdown",
      "id": "8e426386",
      "metadata": {
        "id": "8e426386"
      },
      "source": [
        "H1: The average insurance claim amount of males is greater than that of females.\n",
        "\n",
        "H0: The average insurance claim amount of males is lesser than or equal to that of females.\n",
        "\n",
        "Testing the claim at a significance level = 0.01\n",
        "\n",
        "This will be a right-tailed test."
      ]
    },
    {
      "cell_type": "code",
      "execution_count": 40,
      "id": "91f6ba38",
      "metadata": {
        "colab": {
          "base_uri": "https://localhost:8080/"
        },
        "id": "91f6ba38",
        "outputId": "4e9e1994-d237-429e-bb47-89b1ae4ec345"
      },
      "outputs": [
        {
          "output_type": "execute_result",
          "data": {
            "text/plain": [
              "2.329138122805607"
            ]
          },
          "metadata": {},
          "execution_count": 40
        }
      ],
      "source": [
        "stats.t.isf(0.01,1340-2) #Critical value"
      ]
    },
    {
      "cell_type": "code",
      "execution_count": 41,
      "id": "1a9b9f75",
      "metadata": {
        "colab": {
          "base_uri": "https://localhost:8080/",
          "height": 424
        },
        "id": "1a9b9f75",
        "outputId": "7b450385-a2aa-4a87-f49a-b4a8c6f14f23"
      },
      "outputs": [
        {
          "output_type": "execute_result",
          "data": {
            "text/plain": [
              "      PatientID        age gender   bmi  bloodpressure diabetic  children  \\\n",
              "0             1  39.000000   male  23.2             91      Yes         0   \n",
              "1             2  24.000000   male  30.1             87       No         0   \n",
              "2             3  38.078652   male  33.3             82      Yes         0   \n",
              "3             4  38.078652   male  33.7             80       No         0   \n",
              "4             5  38.078652   male  34.1            100       No         0   \n",
              "...         ...        ...    ...   ...            ...      ...       ...   \n",
              "1332       1333  26.000000   male  37.0            120       No         2   \n",
              "1333       1334  44.000000   male  36.4            127       No         1   \n",
              "1334       1335  43.000000   male  32.8            125       No         0   \n",
              "1337       1338  30.000000   male  34.5             91      Yes         3   \n",
              "1338       1339  37.000000   male  30.4            106       No         0   \n",
              "\n",
              "     smoker     region     claim  \n",
              "0        No  southeast   1121.87  \n",
              "1        No  southeast   1131.51  \n",
              "2        No  southeast   1135.94  \n",
              "3        No  northwest   1136.40  \n",
              "4        No  northwest   1137.01  \n",
              "...     ...        ...       ...  \n",
              "1332    Yes  southeast  49577.66  \n",
              "1333    Yes  southwest  51194.56  \n",
              "1334    Yes  southwest  52590.83  \n",
              "1337    Yes  northwest  60021.40  \n",
              "1338    Yes  southeast  62592.87  \n",
              "\n",
              "[678 rows x 10 columns]"
            ],
            "text/html": [
              "\n",
              "  <div id=\"df-6f744a94-742f-4eb3-9c56-807dce8bd917\">\n",
              "    <div class=\"colab-df-container\">\n",
              "      <div>\n",
              "<style scoped>\n",
              "    .dataframe tbody tr th:only-of-type {\n",
              "        vertical-align: middle;\n",
              "    }\n",
              "\n",
              "    .dataframe tbody tr th {\n",
              "        vertical-align: top;\n",
              "    }\n",
              "\n",
              "    .dataframe thead th {\n",
              "        text-align: right;\n",
              "    }\n",
              "</style>\n",
              "<table border=\"1\" class=\"dataframe\">\n",
              "  <thead>\n",
              "    <tr style=\"text-align: right;\">\n",
              "      <th></th>\n",
              "      <th>PatientID</th>\n",
              "      <th>age</th>\n",
              "      <th>gender</th>\n",
              "      <th>bmi</th>\n",
              "      <th>bloodpressure</th>\n",
              "      <th>diabetic</th>\n",
              "      <th>children</th>\n",
              "      <th>smoker</th>\n",
              "      <th>region</th>\n",
              "      <th>claim</th>\n",
              "    </tr>\n",
              "  </thead>\n",
              "  <tbody>\n",
              "    <tr>\n",
              "      <th>0</th>\n",
              "      <td>1</td>\n",
              "      <td>39.000000</td>\n",
              "      <td>male</td>\n",
              "      <td>23.2</td>\n",
              "      <td>91</td>\n",
              "      <td>Yes</td>\n",
              "      <td>0</td>\n",
              "      <td>No</td>\n",
              "      <td>southeast</td>\n",
              "      <td>1121.87</td>\n",
              "    </tr>\n",
              "    <tr>\n",
              "      <th>1</th>\n",
              "      <td>2</td>\n",
              "      <td>24.000000</td>\n",
              "      <td>male</td>\n",
              "      <td>30.1</td>\n",
              "      <td>87</td>\n",
              "      <td>No</td>\n",
              "      <td>0</td>\n",
              "      <td>No</td>\n",
              "      <td>southeast</td>\n",
              "      <td>1131.51</td>\n",
              "    </tr>\n",
              "    <tr>\n",
              "      <th>2</th>\n",
              "      <td>3</td>\n",
              "      <td>38.078652</td>\n",
              "      <td>male</td>\n",
              "      <td>33.3</td>\n",
              "      <td>82</td>\n",
              "      <td>Yes</td>\n",
              "      <td>0</td>\n",
              "      <td>No</td>\n",
              "      <td>southeast</td>\n",
              "      <td>1135.94</td>\n",
              "    </tr>\n",
              "    <tr>\n",
              "      <th>3</th>\n",
              "      <td>4</td>\n",
              "      <td>38.078652</td>\n",
              "      <td>male</td>\n",
              "      <td>33.7</td>\n",
              "      <td>80</td>\n",
              "      <td>No</td>\n",
              "      <td>0</td>\n",
              "      <td>No</td>\n",
              "      <td>northwest</td>\n",
              "      <td>1136.40</td>\n",
              "    </tr>\n",
              "    <tr>\n",
              "      <th>4</th>\n",
              "      <td>5</td>\n",
              "      <td>38.078652</td>\n",
              "      <td>male</td>\n",
              "      <td>34.1</td>\n",
              "      <td>100</td>\n",
              "      <td>No</td>\n",
              "      <td>0</td>\n",
              "      <td>No</td>\n",
              "      <td>northwest</td>\n",
              "      <td>1137.01</td>\n",
              "    </tr>\n",
              "    <tr>\n",
              "      <th>...</th>\n",
              "      <td>...</td>\n",
              "      <td>...</td>\n",
              "      <td>...</td>\n",
              "      <td>...</td>\n",
              "      <td>...</td>\n",
              "      <td>...</td>\n",
              "      <td>...</td>\n",
              "      <td>...</td>\n",
              "      <td>...</td>\n",
              "      <td>...</td>\n",
              "    </tr>\n",
              "    <tr>\n",
              "      <th>1332</th>\n",
              "      <td>1333</td>\n",
              "      <td>26.000000</td>\n",
              "      <td>male</td>\n",
              "      <td>37.0</td>\n",
              "      <td>120</td>\n",
              "      <td>No</td>\n",
              "      <td>2</td>\n",
              "      <td>Yes</td>\n",
              "      <td>southeast</td>\n",
              "      <td>49577.66</td>\n",
              "    </tr>\n",
              "    <tr>\n",
              "      <th>1333</th>\n",
              "      <td>1334</td>\n",
              "      <td>44.000000</td>\n",
              "      <td>male</td>\n",
              "      <td>36.4</td>\n",
              "      <td>127</td>\n",
              "      <td>No</td>\n",
              "      <td>1</td>\n",
              "      <td>Yes</td>\n",
              "      <td>southwest</td>\n",
              "      <td>51194.56</td>\n",
              "    </tr>\n",
              "    <tr>\n",
              "      <th>1334</th>\n",
              "      <td>1335</td>\n",
              "      <td>43.000000</td>\n",
              "      <td>male</td>\n",
              "      <td>32.8</td>\n",
              "      <td>125</td>\n",
              "      <td>No</td>\n",
              "      <td>0</td>\n",
              "      <td>Yes</td>\n",
              "      <td>southwest</td>\n",
              "      <td>52590.83</td>\n",
              "    </tr>\n",
              "    <tr>\n",
              "      <th>1337</th>\n",
              "      <td>1338</td>\n",
              "      <td>30.000000</td>\n",
              "      <td>male</td>\n",
              "      <td>34.5</td>\n",
              "      <td>91</td>\n",
              "      <td>Yes</td>\n",
              "      <td>3</td>\n",
              "      <td>Yes</td>\n",
              "      <td>northwest</td>\n",
              "      <td>60021.40</td>\n",
              "    </tr>\n",
              "    <tr>\n",
              "      <th>1338</th>\n",
              "      <td>1339</td>\n",
              "      <td>37.000000</td>\n",
              "      <td>male</td>\n",
              "      <td>30.4</td>\n",
              "      <td>106</td>\n",
              "      <td>No</td>\n",
              "      <td>0</td>\n",
              "      <td>Yes</td>\n",
              "      <td>southeast</td>\n",
              "      <td>62592.87</td>\n",
              "    </tr>\n",
              "  </tbody>\n",
              "</table>\n",
              "<p>678 rows × 10 columns</p>\n",
              "</div>\n",
              "      <button class=\"colab-df-convert\" onclick=\"convertToInteractive('df-6f744a94-742f-4eb3-9c56-807dce8bd917')\"\n",
              "              title=\"Convert this dataframe to an interactive table.\"\n",
              "              style=\"display:none;\">\n",
              "        \n",
              "  <svg xmlns=\"http://www.w3.org/2000/svg\" height=\"24px\"viewBox=\"0 0 24 24\"\n",
              "       width=\"24px\">\n",
              "    <path d=\"M0 0h24v24H0V0z\" fill=\"none\"/>\n",
              "    <path d=\"M18.56 5.44l.94 2.06.94-2.06 2.06-.94-2.06-.94-.94-2.06-.94 2.06-2.06.94zm-11 1L8.5 8.5l.94-2.06 2.06-.94-2.06-.94L8.5 2.5l-.94 2.06-2.06.94zm10 10l.94 2.06.94-2.06 2.06-.94-2.06-.94-.94-2.06-.94 2.06-2.06.94z\"/><path d=\"M17.41 7.96l-1.37-1.37c-.4-.4-.92-.59-1.43-.59-.52 0-1.04.2-1.43.59L10.3 9.45l-7.72 7.72c-.78.78-.78 2.05 0 2.83L4 21.41c.39.39.9.59 1.41.59.51 0 1.02-.2 1.41-.59l7.78-7.78 2.81-2.81c.8-.78.8-2.07 0-2.86zM5.41 20L4 18.59l7.72-7.72 1.47 1.35L5.41 20z\"/>\n",
              "  </svg>\n",
              "      </button>\n",
              "      \n",
              "  <style>\n",
              "    .colab-df-container {\n",
              "      display:flex;\n",
              "      flex-wrap:wrap;\n",
              "      gap: 12px;\n",
              "    }\n",
              "\n",
              "    .colab-df-convert {\n",
              "      background-color: #E8F0FE;\n",
              "      border: none;\n",
              "      border-radius: 50%;\n",
              "      cursor: pointer;\n",
              "      display: none;\n",
              "      fill: #1967D2;\n",
              "      height: 32px;\n",
              "      padding: 0 0 0 0;\n",
              "      width: 32px;\n",
              "    }\n",
              "\n",
              "    .colab-df-convert:hover {\n",
              "      background-color: #E2EBFA;\n",
              "      box-shadow: 0px 1px 2px rgba(60, 64, 67, 0.3), 0px 1px 3px 1px rgba(60, 64, 67, 0.15);\n",
              "      fill: #174EA6;\n",
              "    }\n",
              "\n",
              "    [theme=dark] .colab-df-convert {\n",
              "      background-color: #3B4455;\n",
              "      fill: #D2E3FC;\n",
              "    }\n",
              "\n",
              "    [theme=dark] .colab-df-convert:hover {\n",
              "      background-color: #434B5C;\n",
              "      box-shadow: 0px 1px 3px 1px rgba(0, 0, 0, 0.15);\n",
              "      filter: drop-shadow(0px 1px 2px rgba(0, 0, 0, 0.3));\n",
              "      fill: #FFFFFF;\n",
              "    }\n",
              "  </style>\n",
              "\n",
              "      <script>\n",
              "        const buttonEl =\n",
              "          document.querySelector('#df-6f744a94-742f-4eb3-9c56-807dce8bd917 button.colab-df-convert');\n",
              "        buttonEl.style.display =\n",
              "          google.colab.kernel.accessAllowed ? 'block' : 'none';\n",
              "\n",
              "        async function convertToInteractive(key) {\n",
              "          const element = document.querySelector('#df-6f744a94-742f-4eb3-9c56-807dce8bd917');\n",
              "          const dataTable =\n",
              "            await google.colab.kernel.invokeFunction('convertToInteractive',\n",
              "                                                     [key], {});\n",
              "          if (!dataTable) return;\n",
              "\n",
              "          const docLinkHtml = 'Like what you see? Visit the ' +\n",
              "            '<a target=\"_blank\" href=https://colab.research.google.com/notebooks/data_table.ipynb>data table notebook</a>'\n",
              "            + ' to learn more about interactive tables.';\n",
              "          element.innerHTML = '';\n",
              "          dataTable['output_type'] = 'display_data';\n",
              "          await google.colab.output.renderOutput(dataTable, element);\n",
              "          const docLink = document.createElement('div');\n",
              "          docLink.innerHTML = docLinkHtml;\n",
              "          element.appendChild(docLink);\n",
              "        }\n",
              "      </script>\n",
              "    </div>\n",
              "  </div>\n",
              "  "
            ]
          },
          "metadata": {},
          "execution_count": 41
        }
      ],
      "source": [
        "X1 = data_ins.loc[data_ins[\"gender\"] == 'male']\n",
        "X1"
      ]
    },
    {
      "cell_type": "code",
      "execution_count": 42,
      "id": "e7410044",
      "metadata": {
        "colab": {
          "base_uri": "https://localhost:8080/",
          "height": 424
        },
        "id": "e7410044",
        "outputId": "ae4797bf-a0b9-445f-e188-7d1fa9e82c3e"
      },
      "outputs": [
        {
          "output_type": "execute_result",
          "data": {
            "text/plain": [
              "      PatientID   age  gender   bmi  bloodpressure diabetic  children smoker  \\\n",
              "24           25  50.0  female  20.8             85      Yes         0     No   \n",
              "26           27  36.0  female  26.7             97      Yes         0     No   \n",
              "28           29  58.0  female  31.1             87       No         0     No   \n",
              "29           30  35.0  female  31.4             93       No         0     No   \n",
              "33           34  52.0  female  36.9             81       No         0     No   \n",
              "...         ...   ...     ...   ...            ...      ...       ...    ...   \n",
              "1329       1330  52.0  female  37.7            109      Yes         0    Yes   \n",
              "1330       1331  25.0  female  38.1            111       No         0    Yes   \n",
              "1335       1336  44.0  female  35.5             88      Yes         0    Yes   \n",
              "1336       1337  59.0  female  38.1            120       No         1    Yes   \n",
              "1339       1340  30.0  female  47.4            101       No         0    Yes   \n",
              "\n",
              "         region     claim  \n",
              "24    southeast   1607.51  \n",
              "26    southeast   1615.77  \n",
              "28    southeast   1621.88  \n",
              "29    southeast   1622.19  \n",
              "33    southeast   1629.83  \n",
              "...         ...       ...  \n",
              "1329  southwest  48824.45  \n",
              "1330  southeast  48885.14  \n",
              "1335  northwest  55135.40  \n",
              "1336  northeast  58571.07  \n",
              "1339  southeast  63770.43  \n",
              "\n",
              "[662 rows x 10 columns]"
            ],
            "text/html": [
              "\n",
              "  <div id=\"df-deb415c5-4c30-4efb-8fd3-f58a59a6c551\">\n",
              "    <div class=\"colab-df-container\">\n",
              "      <div>\n",
              "<style scoped>\n",
              "    .dataframe tbody tr th:only-of-type {\n",
              "        vertical-align: middle;\n",
              "    }\n",
              "\n",
              "    .dataframe tbody tr th {\n",
              "        vertical-align: top;\n",
              "    }\n",
              "\n",
              "    .dataframe thead th {\n",
              "        text-align: right;\n",
              "    }\n",
              "</style>\n",
              "<table border=\"1\" class=\"dataframe\">\n",
              "  <thead>\n",
              "    <tr style=\"text-align: right;\">\n",
              "      <th></th>\n",
              "      <th>PatientID</th>\n",
              "      <th>age</th>\n",
              "      <th>gender</th>\n",
              "      <th>bmi</th>\n",
              "      <th>bloodpressure</th>\n",
              "      <th>diabetic</th>\n",
              "      <th>children</th>\n",
              "      <th>smoker</th>\n",
              "      <th>region</th>\n",
              "      <th>claim</th>\n",
              "    </tr>\n",
              "  </thead>\n",
              "  <tbody>\n",
              "    <tr>\n",
              "      <th>24</th>\n",
              "      <td>25</td>\n",
              "      <td>50.0</td>\n",
              "      <td>female</td>\n",
              "      <td>20.8</td>\n",
              "      <td>85</td>\n",
              "      <td>Yes</td>\n",
              "      <td>0</td>\n",
              "      <td>No</td>\n",
              "      <td>southeast</td>\n",
              "      <td>1607.51</td>\n",
              "    </tr>\n",
              "    <tr>\n",
              "      <th>26</th>\n",
              "      <td>27</td>\n",
              "      <td>36.0</td>\n",
              "      <td>female</td>\n",
              "      <td>26.7</td>\n",
              "      <td>97</td>\n",
              "      <td>Yes</td>\n",
              "      <td>0</td>\n",
              "      <td>No</td>\n",
              "      <td>southeast</td>\n",
              "      <td>1615.77</td>\n",
              "    </tr>\n",
              "    <tr>\n",
              "      <th>28</th>\n",
              "      <td>29</td>\n",
              "      <td>58.0</td>\n",
              "      <td>female</td>\n",
              "      <td>31.1</td>\n",
              "      <td>87</td>\n",
              "      <td>No</td>\n",
              "      <td>0</td>\n",
              "      <td>No</td>\n",
              "      <td>southeast</td>\n",
              "      <td>1621.88</td>\n",
              "    </tr>\n",
              "    <tr>\n",
              "      <th>29</th>\n",
              "      <td>30</td>\n",
              "      <td>35.0</td>\n",
              "      <td>female</td>\n",
              "      <td>31.4</td>\n",
              "      <td>93</td>\n",
              "      <td>No</td>\n",
              "      <td>0</td>\n",
              "      <td>No</td>\n",
              "      <td>southeast</td>\n",
              "      <td>1622.19</td>\n",
              "    </tr>\n",
              "    <tr>\n",
              "      <th>33</th>\n",
              "      <td>34</td>\n",
              "      <td>52.0</td>\n",
              "      <td>female</td>\n",
              "      <td>36.9</td>\n",
              "      <td>81</td>\n",
              "      <td>No</td>\n",
              "      <td>0</td>\n",
              "      <td>No</td>\n",
              "      <td>southeast</td>\n",
              "      <td>1629.83</td>\n",
              "    </tr>\n",
              "    <tr>\n",
              "      <th>...</th>\n",
              "      <td>...</td>\n",
              "      <td>...</td>\n",
              "      <td>...</td>\n",
              "      <td>...</td>\n",
              "      <td>...</td>\n",
              "      <td>...</td>\n",
              "      <td>...</td>\n",
              "      <td>...</td>\n",
              "      <td>...</td>\n",
              "      <td>...</td>\n",
              "    </tr>\n",
              "    <tr>\n",
              "      <th>1329</th>\n",
              "      <td>1330</td>\n",
              "      <td>52.0</td>\n",
              "      <td>female</td>\n",
              "      <td>37.7</td>\n",
              "      <td>109</td>\n",
              "      <td>Yes</td>\n",
              "      <td>0</td>\n",
              "      <td>Yes</td>\n",
              "      <td>southwest</td>\n",
              "      <td>48824.45</td>\n",
              "    </tr>\n",
              "    <tr>\n",
              "      <th>1330</th>\n",
              "      <td>1331</td>\n",
              "      <td>25.0</td>\n",
              "      <td>female</td>\n",
              "      <td>38.1</td>\n",
              "      <td>111</td>\n",
              "      <td>No</td>\n",
              "      <td>0</td>\n",
              "      <td>Yes</td>\n",
              "      <td>southeast</td>\n",
              "      <td>48885.14</td>\n",
              "    </tr>\n",
              "    <tr>\n",
              "      <th>1335</th>\n",
              "      <td>1336</td>\n",
              "      <td>44.0</td>\n",
              "      <td>female</td>\n",
              "      <td>35.5</td>\n",
              "      <td>88</td>\n",
              "      <td>Yes</td>\n",
              "      <td>0</td>\n",
              "      <td>Yes</td>\n",
              "      <td>northwest</td>\n",
              "      <td>55135.40</td>\n",
              "    </tr>\n",
              "    <tr>\n",
              "      <th>1336</th>\n",
              "      <td>1337</td>\n",
              "      <td>59.0</td>\n",
              "      <td>female</td>\n",
              "      <td>38.1</td>\n",
              "      <td>120</td>\n",
              "      <td>No</td>\n",
              "      <td>1</td>\n",
              "      <td>Yes</td>\n",
              "      <td>northeast</td>\n",
              "      <td>58571.07</td>\n",
              "    </tr>\n",
              "    <tr>\n",
              "      <th>1339</th>\n",
              "      <td>1340</td>\n",
              "      <td>30.0</td>\n",
              "      <td>female</td>\n",
              "      <td>47.4</td>\n",
              "      <td>101</td>\n",
              "      <td>No</td>\n",
              "      <td>0</td>\n",
              "      <td>Yes</td>\n",
              "      <td>southeast</td>\n",
              "      <td>63770.43</td>\n",
              "    </tr>\n",
              "  </tbody>\n",
              "</table>\n",
              "<p>662 rows × 10 columns</p>\n",
              "</div>\n",
              "      <button class=\"colab-df-convert\" onclick=\"convertToInteractive('df-deb415c5-4c30-4efb-8fd3-f58a59a6c551')\"\n",
              "              title=\"Convert this dataframe to an interactive table.\"\n",
              "              style=\"display:none;\">\n",
              "        \n",
              "  <svg xmlns=\"http://www.w3.org/2000/svg\" height=\"24px\"viewBox=\"0 0 24 24\"\n",
              "       width=\"24px\">\n",
              "    <path d=\"M0 0h24v24H0V0z\" fill=\"none\"/>\n",
              "    <path d=\"M18.56 5.44l.94 2.06.94-2.06 2.06-.94-2.06-.94-.94-2.06-.94 2.06-2.06.94zm-11 1L8.5 8.5l.94-2.06 2.06-.94-2.06-.94L8.5 2.5l-.94 2.06-2.06.94zm10 10l.94 2.06.94-2.06 2.06-.94-2.06-.94-.94-2.06-.94 2.06-2.06.94z\"/><path d=\"M17.41 7.96l-1.37-1.37c-.4-.4-.92-.59-1.43-.59-.52 0-1.04.2-1.43.59L10.3 9.45l-7.72 7.72c-.78.78-.78 2.05 0 2.83L4 21.41c.39.39.9.59 1.41.59.51 0 1.02-.2 1.41-.59l7.78-7.78 2.81-2.81c.8-.78.8-2.07 0-2.86zM5.41 20L4 18.59l7.72-7.72 1.47 1.35L5.41 20z\"/>\n",
              "  </svg>\n",
              "      </button>\n",
              "      \n",
              "  <style>\n",
              "    .colab-df-container {\n",
              "      display:flex;\n",
              "      flex-wrap:wrap;\n",
              "      gap: 12px;\n",
              "    }\n",
              "\n",
              "    .colab-df-convert {\n",
              "      background-color: #E8F0FE;\n",
              "      border: none;\n",
              "      border-radius: 50%;\n",
              "      cursor: pointer;\n",
              "      display: none;\n",
              "      fill: #1967D2;\n",
              "      height: 32px;\n",
              "      padding: 0 0 0 0;\n",
              "      width: 32px;\n",
              "    }\n",
              "\n",
              "    .colab-df-convert:hover {\n",
              "      background-color: #E2EBFA;\n",
              "      box-shadow: 0px 1px 2px rgba(60, 64, 67, 0.3), 0px 1px 3px 1px rgba(60, 64, 67, 0.15);\n",
              "      fill: #174EA6;\n",
              "    }\n",
              "\n",
              "    [theme=dark] .colab-df-convert {\n",
              "      background-color: #3B4455;\n",
              "      fill: #D2E3FC;\n",
              "    }\n",
              "\n",
              "    [theme=dark] .colab-df-convert:hover {\n",
              "      background-color: #434B5C;\n",
              "      box-shadow: 0px 1px 3px 1px rgba(0, 0, 0, 0.15);\n",
              "      filter: drop-shadow(0px 1px 2px rgba(0, 0, 0, 0.3));\n",
              "      fill: #FFFFFF;\n",
              "    }\n",
              "  </style>\n",
              "\n",
              "      <script>\n",
              "        const buttonEl =\n",
              "          document.querySelector('#df-deb415c5-4c30-4efb-8fd3-f58a59a6c551 button.colab-df-convert');\n",
              "        buttonEl.style.display =\n",
              "          google.colab.kernel.accessAllowed ? 'block' : 'none';\n",
              "\n",
              "        async function convertToInteractive(key) {\n",
              "          const element = document.querySelector('#df-deb415c5-4c30-4efb-8fd3-f58a59a6c551');\n",
              "          const dataTable =\n",
              "            await google.colab.kernel.invokeFunction('convertToInteractive',\n",
              "                                                     [key], {});\n",
              "          if (!dataTable) return;\n",
              "\n",
              "          const docLinkHtml = 'Like what you see? Visit the ' +\n",
              "            '<a target=\"_blank\" href=https://colab.research.google.com/notebooks/data_table.ipynb>data table notebook</a>'\n",
              "            + ' to learn more about interactive tables.';\n",
              "          element.innerHTML = '';\n",
              "          dataTable['output_type'] = 'display_data';\n",
              "          await google.colab.output.renderOutput(dataTable, element);\n",
              "          const docLink = document.createElement('div');\n",
              "          docLink.innerHTML = docLinkHtml;\n",
              "          element.appendChild(docLink);\n",
              "        }\n",
              "      </script>\n",
              "    </div>\n",
              "  </div>\n",
              "  "
            ]
          },
          "metadata": {},
          "execution_count": 42
        }
      ],
      "source": [
        "X2 = data_ins.loc[data_ins[\"gender\"] == 'female']\n",
        "X2"
      ]
    },
    {
      "cell_type": "code",
      "execution_count": 43,
      "id": "624390ce",
      "metadata": {
        "colab": {
          "base_uri": "https://localhost:8080/"
        },
        "id": "624390ce",
        "outputId": "622523fe-d8c5-4724-e58c-e69983f31dfb"
      },
      "outputs": [
        {
          "output_type": "execute_result",
          "data": {
            "text/plain": [
              "(168213130.18546784, 123848048.6390077)"
            ]
          },
          "metadata": {},
          "execution_count": 43
        }
      ],
      "source": [
        "var_male = X1.claim.var()\n",
        "var_female = X2.claim.var()\n",
        "var_male,var_female"
      ]
    },
    {
      "cell_type": "code",
      "execution_count": 44,
      "id": "7d9901a0",
      "metadata": {
        "colab": {
          "base_uri": "https://localhost:8080/"
        },
        "id": "7d9901a0",
        "outputId": "434da74b-0f61-4a3f-b764-e55bed8837b8"
      },
      "outputs": [
        {
          "output_type": "execute_result",
          "data": {
            "text/plain": [
              "2.0467535789675178"
            ]
          },
          "metadata": {},
          "execution_count": 44
        }
      ],
      "source": [
        "t_stat =  (X1.claim.mean() - X2.claim.mean())/np.sqrt((var_male/678)+(var_female/662))\n",
        "t_stat"
      ]
    },
    {
      "cell_type": "code",
      "execution_count": 45,
      "id": "15fbb564",
      "metadata": {
        "colab": {
          "base_uri": "https://localhost:8080/"
        },
        "id": "15fbb564",
        "outputId": "da999111-796e-470b-839a-9fb52e0caad2"
      },
      "outputs": [
        {
          "output_type": "execute_result",
          "data": {
            "text/plain": [
              "0.020438659385190145"
            ]
          },
          "metadata": {},
          "execution_count": 45
        }
      ],
      "source": [
        "stats.t.sf(2.0467535789675115,1340-2)"
      ]
    },
    {
      "cell_type": "markdown",
      "id": "a70c8b01",
      "metadata": {
        "id": "a70c8b01"
      },
      "source": [
        "## Feature Engineering based on our initial Uni,Bi-Variate Analysis and subsequent Hypothesis testing"
      ]
    },
    {
      "cell_type": "markdown",
      "source": [
        "Implementing one-hot encoding"
      ],
      "metadata": {
        "id": "tKpe7tvStnGN"
      },
      "id": "tKpe7tvStnGN"
    },
    {
      "cell_type": "code",
      "execution_count": 46,
      "id": "104b8160",
      "metadata": {
        "scrolled": true,
        "colab": {
          "base_uri": "https://localhost:8080/",
          "height": 270
        },
        "id": "104b8160",
        "outputId": "c5530142-7c38-4fc9-e2eb-452e749e98e4"
      },
      "outputs": [
        {
          "output_type": "execute_result",
          "data": {
            "text/plain": [
              "   PatientID        age   bmi  bloodpressure  children    claim  \\\n",
              "0          1  39.000000  23.2             91         0  1121.87   \n",
              "1          2  24.000000  30.1             87         0  1131.51   \n",
              "2          3  38.078652  33.3             82         0  1135.94   \n",
              "3          4  38.078652  33.7             80         0  1136.40   \n",
              "4          5  38.078652  34.1            100         0  1137.01   \n",
              "\n",
              "   gender_female  gender_male  diabetic_No  diabetic_Yes  smoker_No  \\\n",
              "0              0            1            0             1          1   \n",
              "1              0            1            1             0          1   \n",
              "2              0            1            0             1          1   \n",
              "3              0            1            1             0          1   \n",
              "4              0            1            1             0          1   \n",
              "\n",
              "   smoker_Yes  region_northeast  region_northwest  region_southeast  \\\n",
              "0           0                 0                 0                 1   \n",
              "1           0                 0                 0                 1   \n",
              "2           0                 0                 0                 1   \n",
              "3           0                 0                 1                 0   \n",
              "4           0                 0                 1                 0   \n",
              "\n",
              "   region_southwest  \n",
              "0                 0  \n",
              "1                 0  \n",
              "2                 0  \n",
              "3                 0  \n",
              "4                 0  "
            ],
            "text/html": [
              "\n",
              "  <div id=\"df-c9305929-7384-4bf2-ac9b-b3bca6971dec\">\n",
              "    <div class=\"colab-df-container\">\n",
              "      <div>\n",
              "<style scoped>\n",
              "    .dataframe tbody tr th:only-of-type {\n",
              "        vertical-align: middle;\n",
              "    }\n",
              "\n",
              "    .dataframe tbody tr th {\n",
              "        vertical-align: top;\n",
              "    }\n",
              "\n",
              "    .dataframe thead th {\n",
              "        text-align: right;\n",
              "    }\n",
              "</style>\n",
              "<table border=\"1\" class=\"dataframe\">\n",
              "  <thead>\n",
              "    <tr style=\"text-align: right;\">\n",
              "      <th></th>\n",
              "      <th>PatientID</th>\n",
              "      <th>age</th>\n",
              "      <th>bmi</th>\n",
              "      <th>bloodpressure</th>\n",
              "      <th>children</th>\n",
              "      <th>claim</th>\n",
              "      <th>gender_female</th>\n",
              "      <th>gender_male</th>\n",
              "      <th>diabetic_No</th>\n",
              "      <th>diabetic_Yes</th>\n",
              "      <th>smoker_No</th>\n",
              "      <th>smoker_Yes</th>\n",
              "      <th>region_northeast</th>\n",
              "      <th>region_northwest</th>\n",
              "      <th>region_southeast</th>\n",
              "      <th>region_southwest</th>\n",
              "    </tr>\n",
              "  </thead>\n",
              "  <tbody>\n",
              "    <tr>\n",
              "      <th>0</th>\n",
              "      <td>1</td>\n",
              "      <td>39.000000</td>\n",
              "      <td>23.2</td>\n",
              "      <td>91</td>\n",
              "      <td>0</td>\n",
              "      <td>1121.87</td>\n",
              "      <td>0</td>\n",
              "      <td>1</td>\n",
              "      <td>0</td>\n",
              "      <td>1</td>\n",
              "      <td>1</td>\n",
              "      <td>0</td>\n",
              "      <td>0</td>\n",
              "      <td>0</td>\n",
              "      <td>1</td>\n",
              "      <td>0</td>\n",
              "    </tr>\n",
              "    <tr>\n",
              "      <th>1</th>\n",
              "      <td>2</td>\n",
              "      <td>24.000000</td>\n",
              "      <td>30.1</td>\n",
              "      <td>87</td>\n",
              "      <td>0</td>\n",
              "      <td>1131.51</td>\n",
              "      <td>0</td>\n",
              "      <td>1</td>\n",
              "      <td>1</td>\n",
              "      <td>0</td>\n",
              "      <td>1</td>\n",
              "      <td>0</td>\n",
              "      <td>0</td>\n",
              "      <td>0</td>\n",
              "      <td>1</td>\n",
              "      <td>0</td>\n",
              "    </tr>\n",
              "    <tr>\n",
              "      <th>2</th>\n",
              "      <td>3</td>\n",
              "      <td>38.078652</td>\n",
              "      <td>33.3</td>\n",
              "      <td>82</td>\n",
              "      <td>0</td>\n",
              "      <td>1135.94</td>\n",
              "      <td>0</td>\n",
              "      <td>1</td>\n",
              "      <td>0</td>\n",
              "      <td>1</td>\n",
              "      <td>1</td>\n",
              "      <td>0</td>\n",
              "      <td>0</td>\n",
              "      <td>0</td>\n",
              "      <td>1</td>\n",
              "      <td>0</td>\n",
              "    </tr>\n",
              "    <tr>\n",
              "      <th>3</th>\n",
              "      <td>4</td>\n",
              "      <td>38.078652</td>\n",
              "      <td>33.7</td>\n",
              "      <td>80</td>\n",
              "      <td>0</td>\n",
              "      <td>1136.40</td>\n",
              "      <td>0</td>\n",
              "      <td>1</td>\n",
              "      <td>1</td>\n",
              "      <td>0</td>\n",
              "      <td>1</td>\n",
              "      <td>0</td>\n",
              "      <td>0</td>\n",
              "      <td>1</td>\n",
              "      <td>0</td>\n",
              "      <td>0</td>\n",
              "    </tr>\n",
              "    <tr>\n",
              "      <th>4</th>\n",
              "      <td>5</td>\n",
              "      <td>38.078652</td>\n",
              "      <td>34.1</td>\n",
              "      <td>100</td>\n",
              "      <td>0</td>\n",
              "      <td>1137.01</td>\n",
              "      <td>0</td>\n",
              "      <td>1</td>\n",
              "      <td>1</td>\n",
              "      <td>0</td>\n",
              "      <td>1</td>\n",
              "      <td>0</td>\n",
              "      <td>0</td>\n",
              "      <td>1</td>\n",
              "      <td>0</td>\n",
              "      <td>0</td>\n",
              "    </tr>\n",
              "  </tbody>\n",
              "</table>\n",
              "</div>\n",
              "      <button class=\"colab-df-convert\" onclick=\"convertToInteractive('df-c9305929-7384-4bf2-ac9b-b3bca6971dec')\"\n",
              "              title=\"Convert this dataframe to an interactive table.\"\n",
              "              style=\"display:none;\">\n",
              "        \n",
              "  <svg xmlns=\"http://www.w3.org/2000/svg\" height=\"24px\"viewBox=\"0 0 24 24\"\n",
              "       width=\"24px\">\n",
              "    <path d=\"M0 0h24v24H0V0z\" fill=\"none\"/>\n",
              "    <path d=\"M18.56 5.44l.94 2.06.94-2.06 2.06-.94-2.06-.94-.94-2.06-.94 2.06-2.06.94zm-11 1L8.5 8.5l.94-2.06 2.06-.94-2.06-.94L8.5 2.5l-.94 2.06-2.06.94zm10 10l.94 2.06.94-2.06 2.06-.94-2.06-.94-.94-2.06-.94 2.06-2.06.94z\"/><path d=\"M17.41 7.96l-1.37-1.37c-.4-.4-.92-.59-1.43-.59-.52 0-1.04.2-1.43.59L10.3 9.45l-7.72 7.72c-.78.78-.78 2.05 0 2.83L4 21.41c.39.39.9.59 1.41.59.51 0 1.02-.2 1.41-.59l7.78-7.78 2.81-2.81c.8-.78.8-2.07 0-2.86zM5.41 20L4 18.59l7.72-7.72 1.47 1.35L5.41 20z\"/>\n",
              "  </svg>\n",
              "      </button>\n",
              "      \n",
              "  <style>\n",
              "    .colab-df-container {\n",
              "      display:flex;\n",
              "      flex-wrap:wrap;\n",
              "      gap: 12px;\n",
              "    }\n",
              "\n",
              "    .colab-df-convert {\n",
              "      background-color: #E8F0FE;\n",
              "      border: none;\n",
              "      border-radius: 50%;\n",
              "      cursor: pointer;\n",
              "      display: none;\n",
              "      fill: #1967D2;\n",
              "      height: 32px;\n",
              "      padding: 0 0 0 0;\n",
              "      width: 32px;\n",
              "    }\n",
              "\n",
              "    .colab-df-convert:hover {\n",
              "      background-color: #E2EBFA;\n",
              "      box-shadow: 0px 1px 2px rgba(60, 64, 67, 0.3), 0px 1px 3px 1px rgba(60, 64, 67, 0.15);\n",
              "      fill: #174EA6;\n",
              "    }\n",
              "\n",
              "    [theme=dark] .colab-df-convert {\n",
              "      background-color: #3B4455;\n",
              "      fill: #D2E3FC;\n",
              "    }\n",
              "\n",
              "    [theme=dark] .colab-df-convert:hover {\n",
              "      background-color: #434B5C;\n",
              "      box-shadow: 0px 1px 3px 1px rgba(0, 0, 0, 0.15);\n",
              "      filter: drop-shadow(0px 1px 2px rgba(0, 0, 0, 0.3));\n",
              "      fill: #FFFFFF;\n",
              "    }\n",
              "  </style>\n",
              "\n",
              "      <script>\n",
              "        const buttonEl =\n",
              "          document.querySelector('#df-c9305929-7384-4bf2-ac9b-b3bca6971dec button.colab-df-convert');\n",
              "        buttonEl.style.display =\n",
              "          google.colab.kernel.accessAllowed ? 'block' : 'none';\n",
              "\n",
              "        async function convertToInteractive(key) {\n",
              "          const element = document.querySelector('#df-c9305929-7384-4bf2-ac9b-b3bca6971dec');\n",
              "          const dataTable =\n",
              "            await google.colab.kernel.invokeFunction('convertToInteractive',\n",
              "                                                     [key], {});\n",
              "          if (!dataTable) return;\n",
              "\n",
              "          const docLinkHtml = 'Like what you see? Visit the ' +\n",
              "            '<a target=\"_blank\" href=https://colab.research.google.com/notebooks/data_table.ipynb>data table notebook</a>'\n",
              "            + ' to learn more about interactive tables.';\n",
              "          element.innerHTML = '';\n",
              "          dataTable['output_type'] = 'display_data';\n",
              "          await google.colab.output.renderOutput(dataTable, element);\n",
              "          const docLink = document.createElement('div');\n",
              "          docLink.innerHTML = docLinkHtml;\n",
              "          element.appendChild(docLink);\n",
              "        }\n",
              "      </script>\n",
              "    </div>\n",
              "  </div>\n",
              "  "
            ]
          },
          "metadata": {},
          "execution_count": 46
        }
      ],
      "source": [
        "new_data = pd.get_dummies(data_ins, columns = ['gender','diabetic','smoker','region'])\n",
        "new_data.head()"
      ]
    },
    {
      "cell_type": "code",
      "execution_count": 47,
      "id": "c3defe0d",
      "metadata": {
        "colab": {
          "base_uri": "https://localhost:8080/",
          "height": 488
        },
        "id": "c3defe0d",
        "outputId": "b4eece74-fb7d-4978-9529-abed8e021939"
      },
      "outputs": [
        {
          "output_type": "execute_result",
          "data": {
            "text/plain": [
              "      PatientID        age   bmi  bloodpressure  children     claim  \\\n",
              "0             1  39.000000  23.2             91         0   1121.87   \n",
              "1             2  24.000000  30.1             87         0   1131.51   \n",
              "2             3  38.078652  33.3             82         0   1135.94   \n",
              "3             4  38.078652  33.7             80         0   1136.40   \n",
              "4             5  38.078652  34.1            100         0   1137.01   \n",
              "...         ...        ...   ...            ...       ...       ...   \n",
              "1335       1336  44.000000  35.5             88         0  55135.40   \n",
              "1336       1337  59.000000  38.1            120         1  58571.07   \n",
              "1337       1338  30.000000  34.5             91         3  60021.40   \n",
              "1338       1339  37.000000  30.4            106         0  62592.87   \n",
              "1339       1340  30.000000  47.4            101         0  63770.43   \n",
              "\n",
              "      gender_female  gender_male  diabetic_No  diabetic_Yes  smoker_No  \\\n",
              "0                 0            1            0             1          1   \n",
              "1                 0            1            1             0          1   \n",
              "2                 0            1            0             1          1   \n",
              "3                 0            1            1             0          1   \n",
              "4                 0            1            1             0          1   \n",
              "...             ...          ...          ...           ...        ...   \n",
              "1335              1            0            0             1          0   \n",
              "1336              1            0            1             0          0   \n",
              "1337              0            1            0             1          0   \n",
              "1338              0            1            1             0          0   \n",
              "1339              1            0            1             0          0   \n",
              "\n",
              "      smoker_Yes  region_northeast  region_northwest  region_southeast  \\\n",
              "0              0                 0                 0                 1   \n",
              "1              0                 0                 0                 1   \n",
              "2              0                 0                 0                 1   \n",
              "3              0                 0                 1                 0   \n",
              "4              0                 0                 1                 0   \n",
              "...          ...               ...               ...               ...   \n",
              "1335           1                 0                 1                 0   \n",
              "1336           1                 1                 0                 0   \n",
              "1337           1                 0                 1                 0   \n",
              "1338           1                 0                 0                 1   \n",
              "1339           1                 0                 0                 1   \n",
              "\n",
              "      region_southwest  \n",
              "0                    0  \n",
              "1                    0  \n",
              "2                    0  \n",
              "3                    0  \n",
              "4                    0  \n",
              "...                ...  \n",
              "1335                 0  \n",
              "1336                 0  \n",
              "1337                 0  \n",
              "1338                 0  \n",
              "1339                 0  \n",
              "\n",
              "[1340 rows x 16 columns]"
            ],
            "text/html": [
              "\n",
              "  <div id=\"df-d43cfdaf-d696-4558-bba6-a69f7951d1f4\">\n",
              "    <div class=\"colab-df-container\">\n",
              "      <div>\n",
              "<style scoped>\n",
              "    .dataframe tbody tr th:only-of-type {\n",
              "        vertical-align: middle;\n",
              "    }\n",
              "\n",
              "    .dataframe tbody tr th {\n",
              "        vertical-align: top;\n",
              "    }\n",
              "\n",
              "    .dataframe thead th {\n",
              "        text-align: right;\n",
              "    }\n",
              "</style>\n",
              "<table border=\"1\" class=\"dataframe\">\n",
              "  <thead>\n",
              "    <tr style=\"text-align: right;\">\n",
              "      <th></th>\n",
              "      <th>PatientID</th>\n",
              "      <th>age</th>\n",
              "      <th>bmi</th>\n",
              "      <th>bloodpressure</th>\n",
              "      <th>children</th>\n",
              "      <th>claim</th>\n",
              "      <th>gender_female</th>\n",
              "      <th>gender_male</th>\n",
              "      <th>diabetic_No</th>\n",
              "      <th>diabetic_Yes</th>\n",
              "      <th>smoker_No</th>\n",
              "      <th>smoker_Yes</th>\n",
              "      <th>region_northeast</th>\n",
              "      <th>region_northwest</th>\n",
              "      <th>region_southeast</th>\n",
              "      <th>region_southwest</th>\n",
              "    </tr>\n",
              "  </thead>\n",
              "  <tbody>\n",
              "    <tr>\n",
              "      <th>0</th>\n",
              "      <td>1</td>\n",
              "      <td>39.000000</td>\n",
              "      <td>23.2</td>\n",
              "      <td>91</td>\n",
              "      <td>0</td>\n",
              "      <td>1121.87</td>\n",
              "      <td>0</td>\n",
              "      <td>1</td>\n",
              "      <td>0</td>\n",
              "      <td>1</td>\n",
              "      <td>1</td>\n",
              "      <td>0</td>\n",
              "      <td>0</td>\n",
              "      <td>0</td>\n",
              "      <td>1</td>\n",
              "      <td>0</td>\n",
              "    </tr>\n",
              "    <tr>\n",
              "      <th>1</th>\n",
              "      <td>2</td>\n",
              "      <td>24.000000</td>\n",
              "      <td>30.1</td>\n",
              "      <td>87</td>\n",
              "      <td>0</td>\n",
              "      <td>1131.51</td>\n",
              "      <td>0</td>\n",
              "      <td>1</td>\n",
              "      <td>1</td>\n",
              "      <td>0</td>\n",
              "      <td>1</td>\n",
              "      <td>0</td>\n",
              "      <td>0</td>\n",
              "      <td>0</td>\n",
              "      <td>1</td>\n",
              "      <td>0</td>\n",
              "    </tr>\n",
              "    <tr>\n",
              "      <th>2</th>\n",
              "      <td>3</td>\n",
              "      <td>38.078652</td>\n",
              "      <td>33.3</td>\n",
              "      <td>82</td>\n",
              "      <td>0</td>\n",
              "      <td>1135.94</td>\n",
              "      <td>0</td>\n",
              "      <td>1</td>\n",
              "      <td>0</td>\n",
              "      <td>1</td>\n",
              "      <td>1</td>\n",
              "      <td>0</td>\n",
              "      <td>0</td>\n",
              "      <td>0</td>\n",
              "      <td>1</td>\n",
              "      <td>0</td>\n",
              "    </tr>\n",
              "    <tr>\n",
              "      <th>3</th>\n",
              "      <td>4</td>\n",
              "      <td>38.078652</td>\n",
              "      <td>33.7</td>\n",
              "      <td>80</td>\n",
              "      <td>0</td>\n",
              "      <td>1136.40</td>\n",
              "      <td>0</td>\n",
              "      <td>1</td>\n",
              "      <td>1</td>\n",
              "      <td>0</td>\n",
              "      <td>1</td>\n",
              "      <td>0</td>\n",
              "      <td>0</td>\n",
              "      <td>1</td>\n",
              "      <td>0</td>\n",
              "      <td>0</td>\n",
              "    </tr>\n",
              "    <tr>\n",
              "      <th>4</th>\n",
              "      <td>5</td>\n",
              "      <td>38.078652</td>\n",
              "      <td>34.1</td>\n",
              "      <td>100</td>\n",
              "      <td>0</td>\n",
              "      <td>1137.01</td>\n",
              "      <td>0</td>\n",
              "      <td>1</td>\n",
              "      <td>1</td>\n",
              "      <td>0</td>\n",
              "      <td>1</td>\n",
              "      <td>0</td>\n",
              "      <td>0</td>\n",
              "      <td>1</td>\n",
              "      <td>0</td>\n",
              "      <td>0</td>\n",
              "    </tr>\n",
              "    <tr>\n",
              "      <th>...</th>\n",
              "      <td>...</td>\n",
              "      <td>...</td>\n",
              "      <td>...</td>\n",
              "      <td>...</td>\n",
              "      <td>...</td>\n",
              "      <td>...</td>\n",
              "      <td>...</td>\n",
              "      <td>...</td>\n",
              "      <td>...</td>\n",
              "      <td>...</td>\n",
              "      <td>...</td>\n",
              "      <td>...</td>\n",
              "      <td>...</td>\n",
              "      <td>...</td>\n",
              "      <td>...</td>\n",
              "      <td>...</td>\n",
              "    </tr>\n",
              "    <tr>\n",
              "      <th>1335</th>\n",
              "      <td>1336</td>\n",
              "      <td>44.000000</td>\n",
              "      <td>35.5</td>\n",
              "      <td>88</td>\n",
              "      <td>0</td>\n",
              "      <td>55135.40</td>\n",
              "      <td>1</td>\n",
              "      <td>0</td>\n",
              "      <td>0</td>\n",
              "      <td>1</td>\n",
              "      <td>0</td>\n",
              "      <td>1</td>\n",
              "      <td>0</td>\n",
              "      <td>1</td>\n",
              "      <td>0</td>\n",
              "      <td>0</td>\n",
              "    </tr>\n",
              "    <tr>\n",
              "      <th>1336</th>\n",
              "      <td>1337</td>\n",
              "      <td>59.000000</td>\n",
              "      <td>38.1</td>\n",
              "      <td>120</td>\n",
              "      <td>1</td>\n",
              "      <td>58571.07</td>\n",
              "      <td>1</td>\n",
              "      <td>0</td>\n",
              "      <td>1</td>\n",
              "      <td>0</td>\n",
              "      <td>0</td>\n",
              "      <td>1</td>\n",
              "      <td>1</td>\n",
              "      <td>0</td>\n",
              "      <td>0</td>\n",
              "      <td>0</td>\n",
              "    </tr>\n",
              "    <tr>\n",
              "      <th>1337</th>\n",
              "      <td>1338</td>\n",
              "      <td>30.000000</td>\n",
              "      <td>34.5</td>\n",
              "      <td>91</td>\n",
              "      <td>3</td>\n",
              "      <td>60021.40</td>\n",
              "      <td>0</td>\n",
              "      <td>1</td>\n",
              "      <td>0</td>\n",
              "      <td>1</td>\n",
              "      <td>0</td>\n",
              "      <td>1</td>\n",
              "      <td>0</td>\n",
              "      <td>1</td>\n",
              "      <td>0</td>\n",
              "      <td>0</td>\n",
              "    </tr>\n",
              "    <tr>\n",
              "      <th>1338</th>\n",
              "      <td>1339</td>\n",
              "      <td>37.000000</td>\n",
              "      <td>30.4</td>\n",
              "      <td>106</td>\n",
              "      <td>0</td>\n",
              "      <td>62592.87</td>\n",
              "      <td>0</td>\n",
              "      <td>1</td>\n",
              "      <td>1</td>\n",
              "      <td>0</td>\n",
              "      <td>0</td>\n",
              "      <td>1</td>\n",
              "      <td>0</td>\n",
              "      <td>0</td>\n",
              "      <td>1</td>\n",
              "      <td>0</td>\n",
              "    </tr>\n",
              "    <tr>\n",
              "      <th>1339</th>\n",
              "      <td>1340</td>\n",
              "      <td>30.000000</td>\n",
              "      <td>47.4</td>\n",
              "      <td>101</td>\n",
              "      <td>0</td>\n",
              "      <td>63770.43</td>\n",
              "      <td>1</td>\n",
              "      <td>0</td>\n",
              "      <td>1</td>\n",
              "      <td>0</td>\n",
              "      <td>0</td>\n",
              "      <td>1</td>\n",
              "      <td>0</td>\n",
              "      <td>0</td>\n",
              "      <td>1</td>\n",
              "      <td>0</td>\n",
              "    </tr>\n",
              "  </tbody>\n",
              "</table>\n",
              "<p>1340 rows × 16 columns</p>\n",
              "</div>\n",
              "      <button class=\"colab-df-convert\" onclick=\"convertToInteractive('df-d43cfdaf-d696-4558-bba6-a69f7951d1f4')\"\n",
              "              title=\"Convert this dataframe to an interactive table.\"\n",
              "              style=\"display:none;\">\n",
              "        \n",
              "  <svg xmlns=\"http://www.w3.org/2000/svg\" height=\"24px\"viewBox=\"0 0 24 24\"\n",
              "       width=\"24px\">\n",
              "    <path d=\"M0 0h24v24H0V0z\" fill=\"none\"/>\n",
              "    <path d=\"M18.56 5.44l.94 2.06.94-2.06 2.06-.94-2.06-.94-.94-2.06-.94 2.06-2.06.94zm-11 1L8.5 8.5l.94-2.06 2.06-.94-2.06-.94L8.5 2.5l-.94 2.06-2.06.94zm10 10l.94 2.06.94-2.06 2.06-.94-2.06-.94-.94-2.06-.94 2.06-2.06.94z\"/><path d=\"M17.41 7.96l-1.37-1.37c-.4-.4-.92-.59-1.43-.59-.52 0-1.04.2-1.43.59L10.3 9.45l-7.72 7.72c-.78.78-.78 2.05 0 2.83L4 21.41c.39.39.9.59 1.41.59.51 0 1.02-.2 1.41-.59l7.78-7.78 2.81-2.81c.8-.78.8-2.07 0-2.86zM5.41 20L4 18.59l7.72-7.72 1.47 1.35L5.41 20z\"/>\n",
              "  </svg>\n",
              "      </button>\n",
              "      \n",
              "  <style>\n",
              "    .colab-df-container {\n",
              "      display:flex;\n",
              "      flex-wrap:wrap;\n",
              "      gap: 12px;\n",
              "    }\n",
              "\n",
              "    .colab-df-convert {\n",
              "      background-color: #E8F0FE;\n",
              "      border: none;\n",
              "      border-radius: 50%;\n",
              "      cursor: pointer;\n",
              "      display: none;\n",
              "      fill: #1967D2;\n",
              "      height: 32px;\n",
              "      padding: 0 0 0 0;\n",
              "      width: 32px;\n",
              "    }\n",
              "\n",
              "    .colab-df-convert:hover {\n",
              "      background-color: #E2EBFA;\n",
              "      box-shadow: 0px 1px 2px rgba(60, 64, 67, 0.3), 0px 1px 3px 1px rgba(60, 64, 67, 0.15);\n",
              "      fill: #174EA6;\n",
              "    }\n",
              "\n",
              "    [theme=dark] .colab-df-convert {\n",
              "      background-color: #3B4455;\n",
              "      fill: #D2E3FC;\n",
              "    }\n",
              "\n",
              "    [theme=dark] .colab-df-convert:hover {\n",
              "      background-color: #434B5C;\n",
              "      box-shadow: 0px 1px 3px 1px rgba(0, 0, 0, 0.15);\n",
              "      filter: drop-shadow(0px 1px 2px rgba(0, 0, 0, 0.3));\n",
              "      fill: #FFFFFF;\n",
              "    }\n",
              "  </style>\n",
              "\n",
              "      <script>\n",
              "        const buttonEl =\n",
              "          document.querySelector('#df-d43cfdaf-d696-4558-bba6-a69f7951d1f4 button.colab-df-convert');\n",
              "        buttonEl.style.display =\n",
              "          google.colab.kernel.accessAllowed ? 'block' : 'none';\n",
              "\n",
              "        async function convertToInteractive(key) {\n",
              "          const element = document.querySelector('#df-d43cfdaf-d696-4558-bba6-a69f7951d1f4');\n",
              "          const dataTable =\n",
              "            await google.colab.kernel.invokeFunction('convertToInteractive',\n",
              "                                                     [key], {});\n",
              "          if (!dataTable) return;\n",
              "\n",
              "          const docLinkHtml = 'Like what you see? Visit the ' +\n",
              "            '<a target=\"_blank\" href=https://colab.research.google.com/notebooks/data_table.ipynb>data table notebook</a>'\n",
              "            + ' to learn more about interactive tables.';\n",
              "          element.innerHTML = '';\n",
              "          dataTable['output_type'] = 'display_data';\n",
              "          await google.colab.output.renderOutput(dataTable, element);\n",
              "          const docLink = document.createElement('div');\n",
              "          docLink.innerHTML = docLinkHtml;\n",
              "          element.appendChild(docLink);\n",
              "        }\n",
              "      </script>\n",
              "    </div>\n",
              "  </div>\n",
              "  "
            ]
          },
          "metadata": {},
          "execution_count": 47
        }
      ],
      "source": [
        "new_data"
      ]
    },
    {
      "cell_type": "markdown",
      "id": "53aa63f3",
      "metadata": {
        "id": "53aa63f3"
      },
      "source": [
        "## Model Fitting"
      ]
    },
    {
      "cell_type": "markdown",
      "id": "9f2c1bd6",
      "metadata": {
        "id": "9f2c1bd6"
      },
      "source": [
        "> Linear Regression"
      ]
    },
    {
      "cell_type": "code",
      "execution_count": 48,
      "id": "a6578a9b",
      "metadata": {
        "id": "a6578a9b"
      },
      "outputs": [],
      "source": [
        "X = new_data.drop(['claim','PatientID'],axis=1)\n",
        "y = new_data.claim"
      ]
    },
    {
      "cell_type": "code",
      "execution_count": 49,
      "id": "a7d431ef",
      "metadata": {
        "id": "a7d431ef"
      },
      "outputs": [],
      "source": [
        "X_train,X_test,y_train,y_test = train_test_split(X,y,test_size = 0.25)"
      ]
    },
    {
      "cell_type": "code",
      "execution_count": 50,
      "id": "5785ba88",
      "metadata": {
        "id": "5785ba88"
      },
      "outputs": [],
      "source": [
        "lr = LinearRegression()"
      ]
    },
    {
      "cell_type": "code",
      "execution_count": 51,
      "id": "629c386b",
      "metadata": {
        "colab": {
          "base_uri": "https://localhost:8080/"
        },
        "id": "629c386b",
        "outputId": "0e6c449b-fbcc-46b9-a552-28e17760c265"
      },
      "outputs": [
        {
          "output_type": "execute_result",
          "data": {
            "text/plain": [
              "LinearRegression()"
            ]
          },
          "metadata": {},
          "execution_count": 51
        }
      ],
      "source": [
        "#Fitting the Linear Regression Model\n",
        "lr.fit(X_train,y_train)"
      ]
    },
    {
      "cell_type": "code",
      "execution_count": 52,
      "id": "ee0eb7b0",
      "metadata": {
        "id": "ee0eb7b0"
      },
      "outputs": [],
      "source": [
        "y_pred = lr.predict(X_test)"
      ]
    },
    {
      "cell_type": "markdown",
      "source": [
        "Calculating MAPE(Mean Absolute Percentage Error):"
      ],
      "metadata": {
        "id": "AV50qlxIvWu6"
      },
      "id": "AV50qlxIvWu6"
    },
    {
      "cell_type": "code",
      "execution_count": 53,
      "id": "b6414722",
      "metadata": {
        "colab": {
          "base_uri": "https://localhost:8080/"
        },
        "id": "b6414722",
        "outputId": "fa1271cb-b760-4a8f-bb69-f6cbc24dcddf"
      },
      "outputs": [
        {
          "output_type": "execute_result",
          "data": {
            "text/plain": [
              "67.07545180293987"
            ]
          },
          "metadata": {},
          "execution_count": 53
        }
      ],
      "source": [
        "np.mean(np.abs(y_test-y_pred)/y_test)*100"
      ]
    },
    {
      "cell_type": "markdown",
      "source": [
        "Calculate RMSE(Mean Squared Error):"
      ],
      "metadata": {
        "id": "wgp0nO5F4SA6"
      },
      "id": "wgp0nO5F4SA6"
    },
    {
      "cell_type": "code",
      "source": [
        "from sklearn.metrics import mean_squared_error"
      ],
      "metadata": {
        "id": "wDKp_uYQ4YPo"
      },
      "id": "wDKp_uYQ4YPo",
      "execution_count": 79,
      "outputs": []
    },
    {
      "cell_type": "code",
      "source": [
        "np.sqrt(mean_squared_error(y_test,y_pred))"
      ],
      "metadata": {
        "colab": {
          "base_uri": "https://localhost:8080/"
        },
        "id": "KOdrCMHp5OEE",
        "outputId": "1ce6119b-f5f2-45c4-a488-182922f19602"
      },
      "id": "KOdrCMHp5OEE",
      "execution_count": 77,
      "outputs": [
        {
          "output_type": "execute_result",
          "data": {
            "text/plain": [
              "6876.626322244632"
            ]
          },
          "metadata": {},
          "execution_count": 77
        }
      ]
    },
    {
      "cell_type": "code",
      "execution_count": 54,
      "id": "fb9e6175",
      "metadata": {
        "colab": {
          "base_uri": "https://localhost:8080/"
        },
        "id": "fb9e6175",
        "outputId": "a21b7927-75f3-4b84-eaf2-91981c2e39e9"
      },
      "outputs": [
        {
          "output_type": "execute_result",
          "data": {
            "text/plain": [
              "0.7046390532367277"
            ]
          },
          "metadata": {},
          "execution_count": 54
        }
      ],
      "source": [
        "lr.score(X_train,y_train) #Training Score"
      ]
    },
    {
      "cell_type": "code",
      "execution_count": null,
      "id": "f1e02b40",
      "metadata": {
        "id": "f1e02b40"
      },
      "outputs": [],
      "source": [
        "lr.score(X_test,y_test)   #Testing Score"
      ]
    },
    {
      "cell_type": "markdown",
      "source": [
        "    It is evident from the training and the test score that the linear \n",
        "    regreesion model is underfitting the data. This can further be explained by \n",
        "    the poor performance of our model on the training data."
      ],
      "metadata": {
        "id": "FnX5q-qeyI3m"
      },
      "id": "FnX5q-qeyI3m"
    },
    {
      "cell_type": "markdown",
      "source": [
        "Intuitively, We shall try a decision tree model to increase the variance of the model so that the bias is also reduced as a trade-off "
      ],
      "metadata": {
        "id": "gNXHCZxEzalb"
      },
      "id": "gNXHCZxEzalb"
    },
    {
      "cell_type": "markdown",
      "source": [
        "> Decision Tree"
      ],
      "metadata": {
        "id": "7N57xQlhzXuq"
      },
      "id": "7N57xQlhzXuq"
    },
    {
      "cell_type": "code",
      "execution_count": 56,
      "id": "2cc0f87f",
      "metadata": {
        "id": "2cc0f87f"
      },
      "outputs": [],
      "source": [
        "from sklearn.tree import DecisionTreeRegressor #Importing the regressor"
      ]
    },
    {
      "cell_type": "code",
      "execution_count": 57,
      "id": "95b7e90a",
      "metadata": {
        "id": "95b7e90a"
      },
      "outputs": [],
      "source": [
        "from sklearn.model_selection import GridSearchCV"
      ]
    },
    {
      "cell_type": "code",
      "execution_count": 58,
      "id": "125c5424",
      "metadata": {
        "id": "125c5424"
      },
      "outputs": [],
      "source": [
        "grid = GridSearchCV(cv = 10, estimator = DecisionTreeRegressor(), n_jobs=-1,       #Permorming 10-fold cross validation\n",
        "                    param_grid = {'criterion':['squared_error'],                   #Setting the parameters\n",
        "                                  'max_depth': range(1,10),\n",
        "                                  'min_samples_leaf' : range(1,5),\n",
        "                                  'min_samples_split': range(1,10)},\n",
        "                    verbose = 1)"
      ]
    },
    {
      "cell_type": "code",
      "execution_count": 59,
      "id": "1a0533e7",
      "metadata": {
        "colab": {
          "base_uri": "https://localhost:8080/"
        },
        "id": "1a0533e7",
        "outputId": "16305d10-a499-4b6c-f401-fcdb56dba03e"
      },
      "outputs": [
        {
          "output_type": "stream",
          "name": "stdout",
          "text": [
            "Fitting 10 folds for each of 324 candidates, totalling 3240 fits\n"
          ]
        },
        {
          "output_type": "execute_result",
          "data": {
            "text/plain": [
              "GridSearchCV(cv=10, estimator=DecisionTreeRegressor(), n_jobs=-1,\n",
              "             param_grid={'criterion': ['squared_error'],\n",
              "                         'max_depth': range(1, 10),\n",
              "                         'min_samples_leaf': range(1, 5),\n",
              "                         'min_samples_split': range(1, 10)},\n",
              "             verbose=1)"
            ]
          },
          "metadata": {},
          "execution_count": 59
        }
      ],
      "source": [
        "grid.fit(X_train,y_train)"
      ]
    },
    {
      "cell_type": "code",
      "execution_count": 60,
      "id": "73cf6f8b",
      "metadata": {
        "scrolled": true,
        "colab": {
          "base_uri": "https://localhost:8080/"
        },
        "id": "73cf6f8b",
        "outputId": "3bc038f3-5146-404c-9c6f-521e454717f3"
      },
      "outputs": [
        {
          "output_type": "execute_result",
          "data": {
            "text/plain": [
              "{'criterion': 'squared_error',\n",
              " 'max_depth': 4,\n",
              " 'min_samples_leaf': 4,\n",
              " 'min_samples_split': 9}"
            ]
          },
          "metadata": {},
          "execution_count": 60
        }
      ],
      "source": [
        "grid.best_params_"
      ]
    },
    {
      "cell_type": "code",
      "execution_count": 66,
      "id": "8d4012a2",
      "metadata": {
        "id": "8d4012a2"
      },
      "outputs": [],
      "source": [
        "#Fitting an optimised DT using the parameters we get from gridsearch CV\n",
        "dt_optimised = DecisionTreeRegressor(max_depth = 4, min_samples_leaf=4, min_samples_split=9)   \n",
        "dt_optimised.fit(X_train,y_train)  \n",
        "y_pred_optimised = dt_optimised.predict(X_test) "
      ]
    },
    {
      "cell_type": "code",
      "execution_count": 67,
      "id": "dc2d60f0",
      "metadata": {
        "scrolled": true,
        "colab": {
          "base_uri": "https://localhost:8080/"
        },
        "id": "dc2d60f0",
        "outputId": "cb5c3a84-62de-480a-8e87-58844bfa37c4"
      },
      "outputs": [
        {
          "output_type": "execute_result",
          "data": {
            "text/plain": [
              "0.8228103463996773"
            ]
          },
          "metadata": {},
          "execution_count": 67
        }
      ],
      "source": [
        "dt_optimised.score(X_train,y_train) #Training Score"
      ]
    },
    {
      "cell_type": "code",
      "execution_count": 68,
      "id": "45bef91d",
      "metadata": {
        "colab": {
          "base_uri": "https://localhost:8080/"
        },
        "id": "45bef91d",
        "outputId": "cd251173-d09b-40b0-91df-bd30a18a6e22"
      },
      "outputs": [
        {
          "output_type": "execute_result",
          "data": {
            "text/plain": [
              "0.8262224515636151"
            ]
          },
          "metadata": {},
          "execution_count": 68
        }
      ],
      "source": [
        "dt_optimised.score(X_test,y_test)   #Test Score"
      ]
    },
    {
      "cell_type": "markdown",
      "source": [
        "Calculating MAPE:"
      ],
      "metadata": {
        "id": "vzdpletC7ZX6"
      },
      "id": "vzdpletC7ZX6"
    },
    {
      "cell_type": "code",
      "source": [
        "np.mean(np.abs(y_test-y_pred_optimised)/y_test)*100"
      ],
      "metadata": {
        "colab": {
          "base_uri": "https://localhost:8080/"
        },
        "id": "6rTu5ie46f7Y",
        "outputId": "f8f3470c-3447-4978-f13d-5715e5f573e1"
      },
      "id": "6rTu5ie46f7Y",
      "execution_count": 81,
      "outputs": [
        {
          "output_type": "execute_result",
          "data": {
            "text/plain": [
              "62.419674534235405"
            ]
          },
          "metadata": {},
          "execution_count": 81
        }
      ]
    },
    {
      "cell_type": "markdown",
      "source": [
        "The MAPE has also decreased"
      ],
      "metadata": {
        "id": "rY-02auR7mqQ"
      },
      "id": "rY-02auR7mqQ"
    },
    {
      "cell_type": "markdown",
      "source": [
        "Calculating RMSE:"
      ],
      "metadata": {
        "id": "2qqIeXRw6gb3"
      },
      "id": "2qqIeXRw6gb3"
    },
    {
      "cell_type": "code",
      "source": [
        "np.sqrt(mean_squared_error(y_test,y_pred_optimised))"
      ],
      "metadata": {
        "colab": {
          "base_uri": "https://localhost:8080/"
        },
        "id": "kTW8FVI_5q6D",
        "outputId": "d18c2f9e-9823-4d70-8be9-647b227a277f"
      },
      "id": "kTW8FVI_5q6D",
      "execution_count": 78,
      "outputs": [
        {
          "output_type": "execute_result",
          "data": {
            "text/plain": [
              "5307.3012390846725"
            ]
          },
          "metadata": {},
          "execution_count": 78
        }
      ]
    },
    {
      "cell_type": "markdown",
      "source": [
        "The RMSE has decreased as compared to the Linear Regression Model which shows an improvement in the model performance"
      ],
      "metadata": {
        "id": "JQis-CHb57PA"
      },
      "id": "JQis-CHb57PA"
    },
    {
      "cell_type": "markdown",
      "source": [
        "We can see that the accuracy has improved drastically.\n",
        "There doesn't seem to be any sign of the model underfitting the data."
      ],
      "metadata": {
        "id": "hr7z6m-s1mgc"
      },
      "id": "hr7z6m-s1mgc"
    },
    {
      "cell_type": "markdown",
      "source": [
        "> Playing Around with AdaBoostRegressor:"
      ],
      "metadata": {
        "id": "zVzNcSuHA79H"
      },
      "id": "zVzNcSuHA79H"
    },
    {
      "cell_type": "code",
      "source": [
        "from sklearn.ensemble import AdaBoostRegressor"
      ],
      "metadata": {
        "id": "RR3IGSz02LKf"
      },
      "id": "RR3IGSz02LKf",
      "execution_count": 69,
      "outputs": []
    },
    {
      "cell_type": "code",
      "source": [
        "base = DecisionTreeRegressor(max_depth = 6) #Trying for a more complex base classifier"
      ],
      "metadata": {
        "id": "1E2_Qi2LAiju"
      },
      "id": "1E2_Qi2LAiju",
      "execution_count": 102,
      "outputs": []
    },
    {
      "cell_type": "code",
      "source": [
        "boost_reg = AdaBoostRegressor(base)"
      ],
      "metadata": {
        "id": "3x05N-P42LNQ"
      },
      "id": "3x05N-P42LNQ",
      "execution_count": 103,
      "outputs": []
    },
    {
      "cell_type": "code",
      "source": [
        "boost_reg.fit(X_train,y_train)"
      ],
      "metadata": {
        "colab": {
          "base_uri": "https://localhost:8080/"
        },
        "id": "S-Kus3Vq2LQG",
        "outputId": "8cd3ebb7-d2a6-42ef-c1d8-23577727eff3"
      },
      "id": "S-Kus3Vq2LQG",
      "execution_count": 104,
      "outputs": [
        {
          "output_type": "execute_result",
          "data": {
            "text/plain": [
              "AdaBoostRegressor(base_estimator=DecisionTreeRegressor(max_depth=6))"
            ]
          },
          "metadata": {},
          "execution_count": 104
        }
      ]
    },
    {
      "cell_type": "code",
      "source": [
        "boost_reg.score(X_train,y_train)"
      ],
      "metadata": {
        "colab": {
          "base_uri": "https://localhost:8080/"
        },
        "id": "onj_zGlf2LSt",
        "outputId": "e9fffc5e-d3df-4996-cad0-41290a540f25"
      },
      "id": "onj_zGlf2LSt",
      "execution_count": 105,
      "outputs": [
        {
          "output_type": "execute_result",
          "data": {
            "text/plain": [
              "0.8637044733356052"
            ]
          },
          "metadata": {},
          "execution_count": 105
        }
      ]
    },
    {
      "cell_type": "code",
      "source": [
        "boost_reg.score(X_test,y_test)"
      ],
      "metadata": {
        "colab": {
          "base_uri": "https://localhost:8080/"
        },
        "id": "PlJhaWeG2LVC",
        "outputId": "09856883-1d28-4730-b82e-a5917b427a35"
      },
      "id": "PlJhaWeG2LVC",
      "execution_count": 106,
      "outputs": [
        {
          "output_type": "execute_result",
          "data": {
            "text/plain": [
              "0.801691097388241"
            ]
          },
          "metadata": {},
          "execution_count": 106
        }
      ]
    },
    {
      "cell_type": "code",
      "source": [
        "y_pred_boosting = boost_reg.predict(X_test) "
      ],
      "metadata": {
        "id": "Yiu8OFyu2LXb"
      },
      "id": "Yiu8OFyu2LXb",
      "execution_count": 107,
      "outputs": []
    },
    {
      "cell_type": "code",
      "source": [
        "np.sqrt(mean_squared_error(y_test,y_pred_boosting))"
      ],
      "metadata": {
        "colab": {
          "base_uri": "https://localhost:8080/"
        },
        "id": "r1BHSbb92LaD",
        "outputId": "382458a3-b795-4570-dad4-0ad2cb219598"
      },
      "id": "r1BHSbb92LaD",
      "execution_count": 108,
      "outputs": [
        {
          "output_type": "execute_result",
          "data": {
            "text/plain": [
              "5669.542447564379"
            ]
          },
          "metadata": {},
          "execution_count": 108
        }
      ]
    },
    {
      "cell_type": "markdown",
      "source": [
        "    There is no such drastic improvement in the model performance by using different variants of Adaptive Boosting Regressor"
      ],
      "metadata": {
        "id": "gnT_Hcq3Baqk"
      },
      "id": "gnT_Hcq3Baqk"
    },
    {
      "cell_type": "markdown",
      "source": [
        "### CONCLUSION:\n",
        "We used a linear regression model initially and observed a high bias as the learning rate was very low. So, intuitively, we fitted a decision tree model which has a higher variance and as a result we saw the improvement in the model performance.\n",
        "Also, as an experiment, we have tried using the Adaptive Boosting Model which may increase the variance by assigning more weight to the wrong predictions.But we observed a constant trade-off between the bias and variance by using various base regressors.  "
      ],
      "metadata": {
        "id": "L8BHqwDGB7At"
      },
      "id": "L8BHqwDGB7At"
    }
  ],
  "metadata": {
    "kernelspec": {
      "display_name": "Python 3 (ipykernel)",
      "language": "python",
      "name": "python3"
    },
    "language_info": {
      "codemirror_mode": {
        "name": "ipython",
        "version": 3
      },
      "file_extension": ".py",
      "mimetype": "text/x-python",
      "name": "python",
      "nbconvert_exporter": "python",
      "pygments_lexer": "ipython3",
      "version": "3.9.7"
    },
    "colab": {
      "name": "Predicting Insurance Claim .ipynb",
      "provenance": [],
      "collapsed_sections": []
    }
  },
  "nbformat": 4,
  "nbformat_minor": 5
}